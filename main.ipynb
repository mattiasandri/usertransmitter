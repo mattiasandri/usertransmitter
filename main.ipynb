{
 "cells": [
  {
   "cell_type": "code",
   "execution_count": 12,
   "metadata": {},
   "outputs": [],
   "source": [
    "from functions import *  #this allows the use of all the functions as if they were defined inside this file"
   ]
  },
  {
   "cell_type": "markdown",
   "metadata": {},
   "source": [
    "This part is to check the settings.ini file and its parameters."
   ]
  },
  {
   "cell_type": "code",
   "execution_count": 13,
   "metadata": {},
   "outputs": [
    {
     "name": "stdout",
     "output_type": "stream",
     "text": [
      "fSampling: 10000000.0\n",
      "quantizationBits: 16\n",
      "scenarioDuration: 5.05\n",
      "SV_PRN_ID: 1\n",
      "CRCpolynomial: A23DCB\n",
      "SYNCpattern: 0101100000\n",
      "TAILpattern: 000000\n",
      "SVIDlength: 6\n",
      "MIDlength: 4\n",
      "MBODYlength_TX: 80\n",
      "MBODYlength_ACK: 30\n",
      "CRClength: 24\n",
      "nPRN_x_Symbol: 1\n",
      "nChip_x_PRN: 4092\n",
      "chipRate: 1023000.0\n",
      "maxDoppler: 100000.0\n"
     ]
    }
   ],
   "source": [
    "f = open('settings.ini')\n",
    "settings = json.load(f)\n",
    " \n",
    "for i in settings:\n",
    "    print(i, end=': ')\n",
    "    print(settings[i])\n",
    " \n",
    "f.close()"
   ]
  },
  {
   "cell_type": "markdown",
   "metadata": {},
   "source": [
    "The N_ACK.csv file is coming from the user receiver, it contains the message ID and if that message needs to be ACK or NACK"
   ]
  },
  {
   "cell_type": "code",
   "execution_count": 14,
   "metadata": {},
   "outputs": [
    {
     "name": "stdout",
     "output_type": "stream",
     "text": [
      "[0 1 0 1 1 0 0 0 0 0 0 0 0 0 0 1 0 0 0 0 1 1 1 1 1 1 1 1 1 1 1 1 1 1 1 0 0\n",
      " 0 0 0 0 0 0 0 0 0 0 0 0 0 1 0 1 0 1 1 1 0 0 0 1 1 0 1 0 1 0 1 1 0 0 0 1 1\n",
      " 0 0 0 0 0 0]\n",
      "[0 1 0 1 1 0 0 0 0 0 0 0 0 0 0 1 0 0 0 1 1 1 1 1 1 1 1 1 1 1 1 1 1 1 1 0 0\n",
      " 0 0 0 0 0 0 0 0 0 0 0 0 0 1 0 1 0 1 1 1 1 1 1 0 0 0 0 0 1 0 1 0 1 0 0 0 1\n",
      " 0 0 0 0 0 0]\n",
      "[0 1 0 1 1 0 0 0 0 0 0 0 0 0 0 1 0 0 1 0 1 1 1 1 1 1 1 1 1 1 1 1 1 1 1 0 0\n",
      " 0 0 0 0 0 0 0 0 0 0 0 0 0 0 1 0 1 0 1 1 1 0 1 1 0 0 1 1 1 1 0 1 1 1 1 0 1\n",
      " 0 0 0 0 0 0]\n",
      "[0 1 0 1 1 0 0 0 0 0 0 0 0 0 0 1 0 0 1 1 0 0 0 0 0 0 0 0 0 0 0 0 0 0 0 1 1\n",
      " 1 1 1 1 1 1 1 1 1 1 1 1 1 0 0 0 1 1 1 0 1 1 0 0 1 1 0 1 1 1 0 0 1 0 1 0 1\n",
      " 0 0 0 0 0 0]\n",
      "[0 1 0 1 1 0 0 0 0 0 0 0 0 0 0 1 0 1 0 0 1 1 1 1 1 1 1 1 1 1 1 1 1 1 1 0 0\n",
      " 0 0 0 0 0 0 0 0 0 0 0 0 0 0 0 1 1 1 0 0 0 1 1 0 1 1 0 1 1 0 0 0 0 0 1 1 1\n",
      " 0 0 0 0 0 0]\n",
      "[0 1 0 1 1 0 0 0 0 0 0 0 0 0 0 1 0 1 0 1 0 0 0 0 0 0 0 0 0 0 0 0 0 0 0 1 1\n",
      " 1 1 1 1 1 1 1 1 1 1 1 1 1 0 1 1 1 0 0 1 0 0 0 1 0 0 1 1 1 0 0 1 0 1 1 1 1\n",
      " 0 0 0 0 0 0]\n",
      "[0 1 0 1 1 0 0 0 0 0 0 0 0 0 0 1 0 1 1 0 1 1 1 1 1 1 1 1 1 1 1 1 1 1 1 0 0\n",
      " 0 0 0 0 0 0 0 0 0 0 0 0 0 0 1 1 1 0 0 0 1 0 1 0 0 1 1 0 0 0 0 0 1 0 1 1 1\n",
      " 0 0 0 0 0 0]\n",
      "[0 1 0 1 1 0 0 0 0 0 0 0 0 0 0 1 0 1 1 1 1 1 1 1 1 1 1 1 1 1 1 1 1 1 1 0 0\n",
      " 0 0 0 0 0 0 0 0 0 0 0 0 0 0 1 1 1 0 0 0 0 1 0 1 1 1 0 0 0 0 0 1 0 0 1 0 1\n",
      " 0 0 0 0 0 0]\n",
      "[0 1 0 1 1 0 0 0 0 0 0 0 0 0 0 1 1 0 0 0 1 1 1 1 1 1 1 1 1 1 1 1 1 1 1 0 0\n",
      " 0 0 0 0 0 0 0 0 0 0 0 0 0 0 0 0 0 0 1 1 1 1 0 0 0 0 0 1 0 1 0 1 0 1 1 0 1\n",
      " 0 0 0 0 0 0]\n",
      "[0 1 0 1 1 0 0 0 0 0 0 0 0 0 0 1 1 0 0 1 0 0 0 0 0 0 0 0 0 0 0 0 0 0 0 1 1\n",
      " 1 1 1 1 1 1 1 1 1 1 1 1 1 0 0 1 0 0 0 1 0 1 1 1 1 1 1 0 0 1 0 1 1 1 0 0 1\n",
      " 0 0 0 0 0 0]\n"
     ]
    }
   ],
   "source": [
    "f = open('N_ACK.csv')\n",
    "csv_file = csv.reader(f)\n",
    "N_ACK = []\n",
    "for row in csv_file:\n",
    "        N_ACK.append(row)\n",
    "\n",
    "\n",
    "for i in range(len(N_ACK)-1):\n",
    "    if(N_ACK[i+1][1]=='1'):\n",
    "        msg=createMessageACK(settings['SYNCpattern'],settings['SV_PRN_ID'],int(N_ACK[i+1][0]))\n",
    "    if(N_ACK[i+1][1]=='0'):\n",
    "        msg=createMessageNACK(settings['SYNCpattern'],settings['SV_PRN_ID'],int(N_ACK[i+1][0]))\n",
    "    print(msg)"
   ]
  },
  {
   "cell_type": "markdown",
   "metadata": {},
   "source": [
    "This part plots the origina orbital data regarding the Doppler shift, and also che interpolated Doppler shift from the function GetDopplerShift,\n",
    "wich returns the interpolated Doppler shift at arbitrary sampling period, number of samples and starting time."
   ]
  },
  {
   "cell_type": "code",
   "execution_count": 15,
   "metadata": {},
   "outputs": [
    {
     "data": {
      "text/plain": [
       "<matplotlib.collections.PathCollection at 0x7f3666dffdc0>"
      ]
     },
     "execution_count": 15,
     "metadata": {},
     "output_type": "execute_result"
    },
    {
     "data": {
      "image/png": "[encoded data removed]",
      "text/plain": [
       "<Figure size 576x288 with 1 Axes>"
      ]
     },
     "metadata": {
      "needs_background": "light"
     },
     "output_type": "display_data"
    }
   ],
   "source": [
    "orbitalData = pd.read_csv('OrbitalDATA.txt', delim_whitespace=True)\n",
    "\n",
    "dopplerFreqSamples = orbitalData['DopplerShift[Hz]'].dropna().to_numpy()\n",
    "originalSamplingPeriod = 0.01\n",
    "interpSamplingPeriod = 2.44E-6\n",
    "StartTime = 100\n",
    "numInterpSamples=1000000 \n",
    "\n",
    "interpDopplerShift=GetDopplerShift(dopplerFreqSamples, originalSamplingPeriod, StartTime, numInterpSamples, interpSamplingPeriod)\n",
    "\n",
    "SampleTime = (np.asarray(range(0,len(dopplerFreqSamples))))*originalSamplingPeriod\n",
    "InterpSampleTime = (np.asarray(range(0,numInterpSamples)))*interpSamplingPeriod\n",
    "InterpSampleTime = np.asarray([i+StartTime for i in InterpSampleTime])\n",
    "\n",
    "plt.figure(figsize=(8, 4))\n",
    "plt.scatter(SampleTime, dopplerFreqSamples)\n",
    "plt.scatter(InterpSampleTime, interpDopplerShift)"
   ]
  },
  {
   "cell_type": "markdown",
   "metadata": {},
   "source": [
    "This parts does the same interpolation process, but for FSPL"
   ]
  },
  {
   "cell_type": "code",
   "execution_count": 16,
   "metadata": {},
   "outputs": [
    {
     "data": {
      "text/plain": [
       "<matplotlib.collections.PathCollection at 0x7f36627521a0>"
      ]
     },
     "execution_count": 16,
     "metadata": {},
     "output_type": "execute_result"
    },
    {
     "data": {
      "image/png": "[encoded data removed]",
      "text/plain": [
       "<Figure size 576x288 with 1 Axes>"
      ]
     },
     "metadata": {
      "needs_background": "light"
     },
     "output_type": "display_data"
    }
   ],
   "source": [
    "FSPL_Samples = orbitalData['FSPL'].dropna().to_numpy()\n",
    "\n",
    "SampleTime = (np.asarray(range(0,len(FSPL_Samples))))*originalSamplingPeriod\n",
    "originalSamplingPeriod = 0.01\n",
    "interpSamplingPeriod = 2.44E-6\n",
    "StartTime = 100\n",
    "numInterpSamples=1000000 \n",
    "\n",
    "interpDopplerShift=GetFSPL(FSPL_Samples, originalSamplingPeriod, StartTime, numInterpSamples, interpSamplingPeriod)\n",
    "\n",
    "\n",
    "InterpSampleTime = (np.asarray(range(0,numInterpSamples)))*interpSamplingPeriod\n",
    "InterpSampleTime = np.asarray([i+StartTime for i in InterpSampleTime])\n",
    "\n",
    "plt.figure(figsize=(8, 4))\n",
    "plt.scatter(SampleTime, FSPL_Samples)\n",
    "plt.scatter(InterpSampleTime, interpDopplerShift)"
   ]
  },
  {
   "cell_type": "markdown",
   "metadata": {},
   "source": [
    "Quantizing the I and Q samples (randomly created in this example)"
   ]
  },
  {
   "cell_type": "code",
   "execution_count": 17,
   "metadata": {},
   "outputs": [
    {
     "name": "stdout",
     "output_type": "stream",
     "text": [
      "I and Q samples:\n",
      "[-0.66765638 -0.40770859 -0.58626656 -0.58943339  0.70667427]\n",
      "[ 0.8145514   0.87060992  0.93944517  0.05987341 -0.02299573]\n",
      "I and Q samples after quantization:\n",
      "[ 1949  3473  2426  2407 10009]\n",
      "[9100 9381 9726 5315 4899]\n"
     ]
    }
   ],
   "source": [
    "Iarray = (np.random.rand(100)-0.5)*2.2\n",
    "Qarray = (np.random.rand(100)-0.5)*2.2\n",
    "\n",
    "print(\"I and Q samples:\")\n",
    "print(Iarray[0:5])\n",
    "print(Qarray[0:5])\n",
    "\n",
    "Iarray = quantizationBounds(Iarray,16,-1,1)\n",
    "Qarray = quantizationBounds(Qarray,16,-1,1)\n",
    "\n",
    "print(\"I and Q samples after quantization:\")\n",
    "print(Iarray[0:5])\n",
    "print(Qarray[0:5])"
   ]
  },
  {
   "cell_type": "markdown",
   "metadata": {},
   "source": [
    "Writing the samples inside a file, first a binary one and then a text (human readable one)"
   ]
  },
  {
   "cell_type": "code",
   "execution_count": 18,
   "metadata": {},
   "outputs": [],
   "source": [
    "writeFileBin(\"signal.bin\",Iarray,Qarray)\n",
    "\n",
    "writeFileChar(\"signal.txt\",Iarray,Qarray)"
   ]
  },
  {
   "cell_type": "markdown",
   "metadata": {},
   "source": [
    "Another choice for quantization could be to truncate our values (floating point of some length) into floating point of 16 bits.\n",
    "To achieve this, we use the float16 type given by the numpy module. \n",
    "This type is structured as:\n",
    "1 sign bit, 5 bits exponent, 10 bits mantissa.\n",
    "Of course, the receiver must be aware of this choiche."
   ]
  },
  {
   "cell_type": "code",
   "execution_count": 19,
   "metadata": {},
   "outputs": [
    {
     "name": "stdout",
     "output_type": "stream",
     "text": [
      "I and Q samples:\n",
      "[-0.68560348 -1.02759285 -1.04144819 -0.56697602  0.25411151]\n",
      "[ 0.21231242  0.95636119 -0.02377223  0.20437016 -0.75160173]\n",
      "I and Q samples truncated to 16 bit floats:\n",
      "[-0.6855 -1.027  -1.041  -0.567   0.2542]\n",
      "[ 0.2123   0.9565  -0.02377  0.2043  -0.7515 ]\n"
     ]
    }
   ],
   "source": [
    "Iarray = (np.random.rand(100)-0.5)*2.2\n",
    "Qarray = (np.random.rand(100)-0.5)*2.2\n",
    "\n",
    "print(\"I and Q samples:\")\n",
    "print(Iarray[0:5])\n",
    "print(Qarray[0:5])\n",
    "\n",
    "Iarray = quantizationFloat(Iarray,16)\n",
    "Qarray = quantizationFloat(Qarray,16)\n",
    " \n",
    "print(\"I and Q samples truncated to 16 bit floats:\")\n",
    "print(Iarray[0:5])\n",
    "print(Qarray[0:5])"
   ]
  },
  {
   "cell_type": "markdown",
   "metadata": {},
   "source": [
    "After that, we can write our I Q samples into a binary file, producing the final output."
   ]
  },
  {
   "cell_type": "code",
   "execution_count": 20,
   "metadata": {},
   "outputs": [],
   "source": [
    "writeFileFloat(\"signalFloat.bin\",Iarray,Qarray)"
   ]
  },
  {
   "cell_type": "code",
   "execution_count": null,
   "metadata": {},
   "outputs": [],
   "source": []
  }
 ],
 "metadata": {
  "kernelspec": {
   "display_name": "Python 3.10.4 64-bit",
   "language": "python",
   "name": "python3"
  },
  "language_info": {
   "codemirror_mode": {
    "name": "ipython",
    "version": 3
   },
   "file_extension": ".py",
   "mimetype": "text/x-python",
   "name": "python",
   "nbconvert_exporter": "python",
   "pygments_lexer": "ipython3",
   "version": "3.10.4"
  },
  "orig_nbformat": 4,
  "vscode": {
   "interpreter": {
    "hash": "916dbcbb3f70747c44a77c7bcd40155683ae19c65e1c03b4aa3499c5328201f1"
   }
  }
 },
 "nbformat": 4,
 "nbformat_minor": 2
}
