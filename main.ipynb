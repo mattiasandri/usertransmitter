{
 "cells": [
  {
   "cell_type": "code",
   "execution_count": 1,
   "id": "84711acb",
   "metadata": {},
   "outputs": [],
   "source": [
    "from functions import *\n",
    "from math import pi\n",
    "import warnings\n",
    "warnings.filterwarnings('ignore')"
   ]
  },
  {
   "cell_type": "markdown",
   "id": "31566f52",
   "metadata": {},
   "source": [
    "# USER TRANSMITTER"
   ]
  },
  {
   "cell_type": "markdown",
   "id": "aca8a872",
   "metadata": {},
   "source": [
    "## INTRODUCTION"
   ]
  },
  {
   "cell_type": "markdown",
   "id": "506ab04f",
   "metadata": {},
   "source": [
    "The aim of the project is to simulate the transmission of a sequence of messages, transmitted by a user placed on the surface of the Moon and received by a satellite in orbit. The signal at the receiver is sampled in I/Q samples, that are quantized and then written inside a binary file.\n",
    "\n",
    "The messages to transmit are either ACKs or NACKs and the signals associated to each packet is obtained by using the Binary Offset Carrier BOC(1,1) modulation.\n",
    "The software simulates the propagation through the channel by introducing an attenuation in the transmitted signal and a delay due to the propagation. The noise, that is supposed to be AWGN, is included directly in the I/Q samples, before the quantization."
   ]
  },
  {
   "cell_type": "markdown",
   "id": "5336b958",
   "metadata": {},
   "source": [
    "## LOADING ALL THE FILES"
   ]
  },
  {
   "cell_type": "markdown",
   "id": "a5570abe",
   "metadata": {},
   "source": [
    "The first thing to do is loading all the files that contain the parameters used for the software: the settings.ini file, the N_ACK.csv file (that contains the messages that are supposed to be ACKed or NACKed) and the output of the orbit propagator group, that contains the oribt information."
   ]
  },
  {
   "cell_type": "code",
   "execution_count": 2,
   "id": "cc67d5de",
   "metadata": {},
   "outputs": [
    {
     "name": "stdout",
     "output_type": "stream",
     "text": [
      "fSampling: 4092000.0\n",
      "quantizationBits: 16\n",
      "scenarioDuration: 5.05\n",
      "SV_PRN_ID: 1\n",
      "CRCpolynomial: A23DCB\n",
      "SYNCpattern: 0101100000\n",
      "TAILpattern: 000000\n",
      "SVIDlength: 6\n",
      "MIDlength: 4\n",
      "MBODYlength_TX: 80\n",
      "MBODYlength_ACK: 30\n",
      "CRClength: 24\n",
      "nPRN_x_Symbol: 1\n",
      "nChip_x_PRN: 4092\n",
      "chipRate: 1023000.0\n",
      "bitRate: 250\n",
      "maxDoppler: 100000.0\n",
      "transmitterGain: 30\n",
      "receiverGain: 15\n",
      "transmittedPower: 27\n",
      "SNR: 15\n"
     ]
    }
   ],
   "source": [
    "f = open('settings.ini')\n",
    "settings = json.load(f)\n",
    " \n",
    "for i in settings:\n",
    "    print(i, end=': ')\n",
    "    print(settings[i])\n",
    "    \n",
    "f.close()\n",
    "\n",
    "#the transmitted power is in Watt, while the transmitter and receiver gains are in dB, as well as the SNR"
   ]
  },
  {
   "cell_type": "code",
   "execution_count": 3,
   "id": "37d1952d",
   "metadata": {},
   "outputs": [
    {
     "name": "stdout",
     "output_type": "stream",
     "text": [
      "Packets to transmit:  5\n"
     ]
    },
    {
     "data": {
      "text/html": [
       "<div>\n",
       "<style scoped>\n",
       "    .dataframe tbody tr th:only-of-type {\n",
       "        vertical-align: middle;\n",
       "    }\n",
       "\n",
       "    .dataframe tbody tr th {\n",
       "        vertical-align: top;\n",
       "    }\n",
       "\n",
       "    .dataframe thead th {\n",
       "        text-align: right;\n",
       "    }\n",
       "</style>\n",
       "<table border=\"1\" class=\"dataframe\">\n",
       "  <thead>\n",
       "    <tr style=\"text-align: right;\">\n",
       "      <th></th>\n",
       "      <th>MSGID</th>\n",
       "      <th>GOOD</th>\n",
       "    </tr>\n",
       "  </thead>\n",
       "  <tbody>\n",
       "    <tr>\n",
       "      <th>0</th>\n",
       "      <td>0</td>\n",
       "      <td>1</td>\n",
       "    </tr>\n",
       "    <tr>\n",
       "      <th>1</th>\n",
       "      <td>1</td>\n",
       "      <td>1</td>\n",
       "    </tr>\n",
       "    <tr>\n",
       "      <th>2</th>\n",
       "      <td>2</td>\n",
       "      <td>1</td>\n",
       "    </tr>\n",
       "    <tr>\n",
       "      <th>3</th>\n",
       "      <td>3</td>\n",
       "      <td>0</td>\n",
       "    </tr>\n",
       "    <tr>\n",
       "      <th>4</th>\n",
       "      <td>4</td>\n",
       "      <td>1</td>\n",
       "    </tr>\n",
       "  </tbody>\n",
       "</table>\n",
       "</div>"
      ],
      "text/plain": [
       "   MSGID  GOOD\n",
       "0      0     1\n",
       "1      1     1\n",
       "2      2     1\n",
       "3      3     0\n",
       "4      4     1"
      ]
     },
     "execution_count": 3,
     "metadata": {},
     "output_type": "execute_result"
    }
   ],
   "source": [
    "#reading the file with the packets to transmit: if GOOD = 1, it's an ACK, if GOOD = 0 it's a NACK\n",
    "acks = pd.read_csv(\"N_ACK.csv\")\n",
    "num_packets = acks.shape[0]\n",
    "print(\"Packets to transmit: \", num_packets)\n",
    "acks"
   ]
  },
  {
   "cell_type": "markdown",
   "id": "53daea04",
   "metadata": {},
   "source": [
    "Now we need to create the messages, and we store them into a matrix. Each row of the matrix corresponds to a message."
   ]
  },
  {
   "cell_type": "code",
   "execution_count": 4,
   "id": "1181b4b0",
   "metadata": {},
   "outputs": [
    {
     "name": "stdout",
     "output_type": "stream",
     "text": [
      "\n",
      "Matrix of packets:\n",
      "[[0 1 0 1 1 0 0 0 0 0 0 0 0 0 0 1 0 0 0 0 1 1 1 1 1 1 1 1 1 1 1 1 1 1 1 0\n",
      "  0 0 0 0 0 0 0 0 0 0 0 0 0 0 1 0 1 0 1 1 1 0 0 0 1 1 0 1 0 1 0 1 1 0 0 0\n",
      "  1 1 0 0 0 0 0 0]\n",
      " [0 1 0 1 1 0 0 0 0 0 0 0 0 0 0 1 0 0 0 1 1 1 1 1 1 1 1 1 1 1 1 1 1 1 1 0\n",
      "  0 0 0 0 0 0 0 0 0 0 0 0 0 0 1 0 1 0 1 1 1 1 1 1 0 0 0 0 0 1 0 1 0 1 0 0\n",
      "  0 1 0 0 0 0 0 0]\n",
      " [0 1 0 1 1 0 0 0 0 0 0 0 0 0 0 1 0 0 1 0 1 1 1 1 1 1 1 1 1 1 1 1 1 1 1 0\n",
      "  0 0 0 0 0 0 0 0 0 0 0 0 0 0 0 1 0 1 0 1 1 1 0 1 1 0 0 1 1 1 1 0 1 1 1 1\n",
      "  0 1 0 0 0 0 0 0]\n",
      " [0 1 0 1 1 0 0 0 0 0 0 0 0 0 0 1 0 0 1 1 0 0 0 0 0 0 0 0 0 0 0 0 0 0 0 1\n",
      "  1 1 1 1 1 1 1 1 1 1 1 1 1 1 0 0 0 1 1 1 0 1 1 0 0 1 1 0 1 1 1 0 0 1 0 1\n",
      "  0 1 0 0 0 0 0 0]\n",
      " [0 1 0 1 1 0 0 0 0 0 0 0 0 0 0 1 0 1 0 0 1 1 1 1 1 1 1 1 1 1 1 1 1 1 1 0\n",
      "  0 0 0 0 0 0 0 0 0 0 0 0 0 0 0 0 1 1 1 0 0 0 1 1 0 1 1 0 1 1 0 0 0 0 0 1\n",
      "  1 1 0 0 0 0 0 0]]\n"
     ]
    }
   ],
   "source": [
    "#we create the empty matrix that will contain all the packets (each row of the matrix is a packet). Each packet\n",
    "#has a length of 80 bits\n",
    "packets_matrix = np.zeros(shape=(num_packets, 80), dtype=np.uint8)\n",
    "# print(packets_matrix)\n",
    "\n",
    "#each row of the file is added to a list called N_ACK. Based on the value of the GOOD column, either a ACK or \n",
    "#a NACK is generated, by using the function createMessageAck (or createMessageNack), defined inside the functions\n",
    "#file\n",
    "\n",
    "f = open('N_ACK.csv')\n",
    "csv_file = csv.reader(f)\n",
    "N_ACK = []\n",
    "for row in csv_file:\n",
    "        N_ACK.append(row)\n",
    "        \n",
    "for i in range(len(N_ACK)-1):\n",
    "    if(N_ACK[i+1][1]=='1'):\n",
    "        msg=createMessageACK(settings['SYNCpattern'],settings['SV_PRN_ID'],int(N_ACK[i+1][0]))\n",
    "    if(N_ACK[i+1][1]=='0'):\n",
    "        msg=createMessageNACK(settings['SYNCpattern'],settings['SV_PRN_ID'],int(N_ACK[i+1][0]))\n",
    "    packets_matrix[i] = msg\n",
    "\n",
    "print(\"\\nMatrix of packets:\")\n",
    "print(packets_matrix)"
   ]
  },
  {
   "cell_type": "code",
   "execution_count": 5,
   "id": "2755ab0c",
   "metadata": {},
   "outputs": [
    {
     "data": {
      "text/html": [
       "<div>\n",
       "<style scoped>\n",
       "    .dataframe tbody tr th:only-of-type {\n",
       "        vertical-align: middle;\n",
       "    }\n",
       "\n",
       "    .dataframe tbody tr th {\n",
       "        vertical-align: top;\n",
       "    }\n",
       "\n",
       "    .dataframe thead th {\n",
       "        text-align: right;\n",
       "    }\n",
       "</style>\n",
       "<table border=\"1\" class=\"dataframe\">\n",
       "  <thead>\n",
       "    <tr style=\"text-align: right;\">\n",
       "      <th></th>\n",
       "      <th>Code index</th>\n",
       "      <th>Hexadecimal</th>\n",
       "    </tr>\n",
       "  </thead>\n",
       "  <tbody>\n",
       "    <tr>\n",
       "      <th>0</th>\n",
       "      <td>1</td>\n",
       "      <td>F5D710130573541B9DBD4FD9E9B20A0D59D144C54BC793...</td>\n",
       "    </tr>\n",
       "    <tr>\n",
       "      <th>1</th>\n",
       "      <td>2</td>\n",
       "      <td>96B856A629F581D1344FEF597835FE60434625D077ECF0...</td>\n",
       "    </tr>\n",
       "    <tr>\n",
       "      <th>2</th>\n",
       "      <td>3</td>\n",
       "      <td>E57DE19A3E4A8C122FCB1DD6584B3D2DAE364D800F9C5A...</td>\n",
       "    </tr>\n",
       "    <tr>\n",
       "      <th>3</th>\n",
       "      <td>4</td>\n",
       "      <td>C0FC4C72A12023BA7093C86775DF3D2F42C7CEDE616876...</td>\n",
       "    </tr>\n",
       "    <tr>\n",
       "      <th>4</th>\n",
       "      <td>5</td>\n",
       "      <td>EA9596357B343DFC31D5875CC0E94117A33651472E476D...</td>\n",
       "    </tr>\n",
       "  </tbody>\n",
       "</table>\n",
       "</div>"
      ],
      "text/plain": [
       "   Code index                                        Hexadecimal\n",
       "0           1  F5D710130573541B9DBD4FD9E9B20A0D59D144C54BC793...\n",
       "1           2  96B856A629F581D1344FEF597835FE60434625D077ECF0...\n",
       "2           3  E57DE19A3E4A8C122FCB1DD6584B3D2DAE364D800F9C5A...\n",
       "3           4  C0FC4C72A12023BA7093C86775DF3D2F42C7CEDE616876...\n",
       "4           5  EA9596357B343DFC31D5875CC0E94117A33651472E476D..."
      ]
     },
     "execution_count": 5,
     "metadata": {},
     "output_type": "execute_result"
    }
   ],
   "source": [
    "filename = \"E1B - Gal.txt\"\n",
    "\n",
    "# defining the name of the column of the dataframe called e1b\n",
    "columns = [\"Hexadecimal\"]\n",
    "\n",
    "#reading the file\n",
    "e1b = pd.read_table(filename, sep='\\n', header=None, names=columns)\n",
    "\n",
    "# deleting the first 15 characters (not part of the code)\n",
    "e1b['Hexadecimal'] = [el[16::] for el in e1b['Hexadecimal']]\n",
    "\n",
    "# creating a new column with the codes indexes and placing it as first column\n",
    "e1b['Code index'] = np.arange(1,51,1)\n",
    "column_list = [\"Code index\", \"Hexadecimal\"]\n",
    "e1b = e1b.reindex(columns=column_list)\n",
    "\n",
    "# printing the first lines of the dataframe\n",
    "e1b.head()"
   ]
  },
  {
   "cell_type": "code",
   "execution_count": 6,
   "id": "f128d6dc",
   "metadata": {},
   "outputs": [
    {
     "data": {
      "text/html": [
       "<div>\n",
       "<style scoped>\n",
       "    .dataframe tbody tr th:only-of-type {\n",
       "        vertical-align: middle;\n",
       "    }\n",
       "\n",
       "    .dataframe tbody tr th {\n",
       "        vertical-align: top;\n",
       "    }\n",
       "\n",
       "    .dataframe thead th {\n",
       "        text-align: right;\n",
       "    }\n",
       "</style>\n",
       "<table border=\"1\" class=\"dataframe\">\n",
       "  <thead>\n",
       "    <tr style=\"text-align: right;\">\n",
       "      <th></th>\n",
       "      <th>Code index</th>\n",
       "      <th>Hexadecimal</th>\n",
       "      <th>Binary</th>\n",
       "    </tr>\n",
       "  </thead>\n",
       "  <tbody>\n",
       "    <tr>\n",
       "      <th>0</th>\n",
       "      <td>1</td>\n",
       "      <td>F5D710130573541B9DBD4FD9E9B20A0D59D144C54BC793...</td>\n",
       "      <td>[1, 1, 1, 1, 0, 1, 0, 1, 1, 1, 0, 1, 0, 1, 1, ...</td>\n",
       "    </tr>\n",
       "    <tr>\n",
       "      <th>1</th>\n",
       "      <td>2</td>\n",
       "      <td>96B856A629F581D1344FEF597835FE60434625D077ECF0...</td>\n",
       "      <td>[1, 0, 0, 1, 0, 1, 1, 0, 1, 0, 1, 1, 1, 0, 0, ...</td>\n",
       "    </tr>\n",
       "    <tr>\n",
       "      <th>2</th>\n",
       "      <td>3</td>\n",
       "      <td>E57DE19A3E4A8C122FCB1DD6584B3D2DAE364D800F9C5A...</td>\n",
       "      <td>[1, 1, 1, 0, 0, 1, 0, 1, 0, 1, 1, 1, 1, 1, 0, ...</td>\n",
       "    </tr>\n",
       "    <tr>\n",
       "      <th>3</th>\n",
       "      <td>4</td>\n",
       "      <td>C0FC4C72A12023BA7093C86775DF3D2F42C7CEDE616876...</td>\n",
       "      <td>[1, 1, 0, 0, 0, 0, 0, 0, 1, 1, 1, 1, 1, 1, 0, ...</td>\n",
       "    </tr>\n",
       "    <tr>\n",
       "      <th>4</th>\n",
       "      <td>5</td>\n",
       "      <td>EA9596357B343DFC31D5875CC0E94117A33651472E476D...</td>\n",
       "      <td>[1, 1, 1, 0, 1, 0, 1, 0, 1, 0, 0, 1, 0, 1, 0, ...</td>\n",
       "    </tr>\n",
       "  </tbody>\n",
       "</table>\n",
       "</div>"
      ],
      "text/plain": [
       "   Code index                                        Hexadecimal  \\\n",
       "0           1  F5D710130573541B9DBD4FD9E9B20A0D59D144C54BC793...   \n",
       "1           2  96B856A629F581D1344FEF597835FE60434625D077ECF0...   \n",
       "2           3  E57DE19A3E4A8C122FCB1DD6584B3D2DAE364D800F9C5A...   \n",
       "3           4  C0FC4C72A12023BA7093C86775DF3D2F42C7CEDE616876...   \n",
       "4           5  EA9596357B343DFC31D5875CC0E94117A33651472E476D...   \n",
       "\n",
       "                                              Binary  \n",
       "0  [1, 1, 1, 1, 0, 1, 0, 1, 1, 1, 0, 1, 0, 1, 1, ...  \n",
       "1  [1, 0, 0, 1, 0, 1, 1, 0, 1, 0, 1, 1, 1, 0, 0, ...  \n",
       "2  [1, 1, 1, 0, 0, 1, 0, 1, 0, 1, 1, 1, 1, 1, 0, ...  \n",
       "3  [1, 1, 0, 0, 0, 0, 0, 0, 1, 1, 1, 1, 1, 1, 0, ...  \n",
       "4  [1, 1, 1, 0, 1, 0, 1, 0, 1, 0, 0, 1, 0, 1, 0, ...  "
      ]
     },
     "execution_count": 6,
     "metadata": {},
     "output_type": "execute_result"
    }
   ],
   "source": [
    "# creation of a new column of the dataframe with the binary representation of each PRN\n",
    "e1b['Binary'] = e1b['Hexadecimal'].apply(hex2bin)\n",
    "\n",
    "#creation of a copy of the dataframe to use without modifying the original dataframe\n",
    "e1bcopy = e1b.copy()\n",
    "e1b.head()"
   ]
  },
  {
   "cell_type": "code",
   "execution_count": 7,
   "id": "ce53854c",
   "metadata": {},
   "outputs": [
    {
     "name": "stdout",
     "output_type": "stream",
     "text": [
      "First 8 bits:  [1 0 0 1 0 1 1 1]\n",
      "Last 8 bits:  [0 0 1 0 0 0 0 0]\n"
     ]
    }
   ],
   "source": [
    "# to verify if the conversion was successful, we print the last code in binary:\n",
    "\n",
    "# since the last code starts with 9 7 ... in hexadecimal, the binary representation should start with \n",
    "# 1001 0111 ...\n",
    "# and since it ends with ... 2 0, the binary representation should end with\n",
    "# ... 0010 0000\n",
    "\n",
    "print(\"First 8 bits: \", e1b['Binary'][49][0:8])    \n",
    "print(\"Last 8 bits: \", e1b['Binary'][49][-8:])    "
   ]
  },
  {
   "cell_type": "markdown",
   "id": "62ee5f4d",
   "metadata": {},
   "source": [
    "To obtain the BOC(1,1) modulation we need first to modify the PRNs, as explained in the report, in order to obtain values equal to 1 and -1 (and not 1 and 0 as before). This is done by adding a new column to the dataframe. The conversion is done by the corresponding function (see functions file)."
   ]
  },
  {
   "cell_type": "code",
   "execution_count": 8,
   "id": "9b4ffa7a",
   "metadata": {},
   "outputs": [
    {
     "data": {
      "text/html": [
       "<div>\n",
       "<style scoped>\n",
       "    .dataframe tbody tr th:only-of-type {\n",
       "        vertical-align: middle;\n",
       "    }\n",
       "\n",
       "    .dataframe tbody tr th {\n",
       "        vertical-align: top;\n",
       "    }\n",
       "\n",
       "    .dataframe thead th {\n",
       "        text-align: right;\n",
       "    }\n",
       "</style>\n",
       "<table border=\"1\" class=\"dataframe\">\n",
       "  <thead>\n",
       "    <tr style=\"text-align: right;\">\n",
       "      <th></th>\n",
       "      <th>Code index</th>\n",
       "      <th>Hexadecimal</th>\n",
       "      <th>Binary</th>\n",
       "      <th>Modified</th>\n",
       "    </tr>\n",
       "  </thead>\n",
       "  <tbody>\n",
       "    <tr>\n",
       "      <th>0</th>\n",
       "      <td>1</td>\n",
       "      <td>F5D710130573541B9DBD4FD9E9B20A0D59D144C54BC793...</td>\n",
       "      <td>[1, 1, 1, 1, 0, 1, 0, 1, 1, 1, 0, 1, 0, 1, 1, ...</td>\n",
       "      <td>[-1, -1, -1, -1, 1, -1, 1, -1, -1, -1, 1, -1, ...</td>\n",
       "    </tr>\n",
       "    <tr>\n",
       "      <th>1</th>\n",
       "      <td>2</td>\n",
       "      <td>96B856A629F581D1344FEF597835FE60434625D077ECF0...</td>\n",
       "      <td>[1, 0, 0, 1, 0, 1, 1, 0, 1, 0, 1, 1, 1, 0, 0, ...</td>\n",
       "      <td>[-1, 1, 1, -1, 1, -1, -1, 1, -1, 1, -1, -1, -1...</td>\n",
       "    </tr>\n",
       "    <tr>\n",
       "      <th>2</th>\n",
       "      <td>3</td>\n",
       "      <td>E57DE19A3E4A8C122FCB1DD6584B3D2DAE364D800F9C5A...</td>\n",
       "      <td>[1, 1, 1, 0, 0, 1, 0, 1, 0, 1, 1, 1, 1, 1, 0, ...</td>\n",
       "      <td>[-1, -1, -1, 1, 1, -1, 1, -1, 1, -1, -1, -1, -...</td>\n",
       "    </tr>\n",
       "    <tr>\n",
       "      <th>3</th>\n",
       "      <td>4</td>\n",
       "      <td>C0FC4C72A12023BA7093C86775DF3D2F42C7CEDE616876...</td>\n",
       "      <td>[1, 1, 0, 0, 0, 0, 0, 0, 1, 1, 1, 1, 1, 1, 0, ...</td>\n",
       "      <td>[-1, -1, 1, 1, 1, 1, 1, 1, -1, -1, -1, -1, -1,...</td>\n",
       "    </tr>\n",
       "    <tr>\n",
       "      <th>4</th>\n",
       "      <td>5</td>\n",
       "      <td>EA9596357B343DFC31D5875CC0E94117A33651472E476D...</td>\n",
       "      <td>[1, 1, 1, 0, 1, 0, 1, 0, 1, 0, 0, 1, 0, 1, 0, ...</td>\n",
       "      <td>[-1, -1, -1, 1, -1, 1, -1, 1, -1, 1, 1, -1, 1,...</td>\n",
       "    </tr>\n",
       "  </tbody>\n",
       "</table>\n",
       "</div>"
      ],
      "text/plain": [
       "   Code index                                        Hexadecimal  \\\n",
       "0           1  F5D710130573541B9DBD4FD9E9B20A0D59D144C54BC793...   \n",
       "1           2  96B856A629F581D1344FEF597835FE60434625D077ECF0...   \n",
       "2           3  E57DE19A3E4A8C122FCB1DD6584B3D2DAE364D800F9C5A...   \n",
       "3           4  C0FC4C72A12023BA7093C86775DF3D2F42C7CEDE616876...   \n",
       "4           5  EA9596357B343DFC31D5875CC0E94117A33651472E476D...   \n",
       "\n",
       "                                              Binary  \\\n",
       "0  [1, 1, 1, 1, 0, 1, 0, 1, 1, 1, 0, 1, 0, 1, 1, ...   \n",
       "1  [1, 0, 0, 1, 0, 1, 1, 0, 1, 0, 1, 1, 1, 0, 0, ...   \n",
       "2  [1, 1, 1, 0, 0, 1, 0, 1, 0, 1, 1, 1, 1, 1, 0, ...   \n",
       "3  [1, 1, 0, 0, 0, 0, 0, 0, 1, 1, 1, 1, 1, 1, 0, ...   \n",
       "4  [1, 1, 1, 0, 1, 0, 1, 0, 1, 0, 0, 1, 0, 1, 0, ...   \n",
       "\n",
       "                                            Modified  \n",
       "0  [-1, -1, -1, -1, 1, -1, 1, -1, -1, -1, 1, -1, ...  \n",
       "1  [-1, 1, 1, -1, 1, -1, -1, 1, -1, 1, -1, -1, -1...  \n",
       "2  [-1, -1, -1, 1, 1, -1, 1, -1, 1, -1, -1, -1, -...  \n",
       "3  [-1, -1, 1, 1, 1, 1, 1, 1, -1, -1, -1, -1, -1,...  \n",
       "4  [-1, -1, -1, 1, -1, 1, -1, 1, -1, 1, 1, -1, 1,...  "
      ]
     },
     "execution_count": 8,
     "metadata": {},
     "output_type": "execute_result"
    }
   ],
   "source": [
    "#we create different dataframes to avoid any modification of the original ones\n",
    "e1bmodified = e1b.copy()\n",
    "e1bmodified['Modified'] = e1bmodified['Binary'].apply(conversion)\n",
    "\n",
    "e1bmodifiedcopy = e1bmodified.copy()\n",
    "e1bmodified.head()"
   ]
  },
  {
   "cell_type": "code",
   "execution_count": 9,
   "id": "0148bb5b",
   "metadata": {},
   "outputs": [
    {
     "data": {
      "image/png": "[encoded data removed]",
      "text/plain": [
       "<Figure size 1080x360 with 1 Axes>"
      ]
     },
     "metadata": {
      "needs_background": "light"
     },
     "output_type": "display_data"
    },
    {
     "data": {
      "image/png": "[encoded data removed]",
      "text/plain": [
       "<Figure size 1080x360 with 1 Axes>"
      ]
     },
     "metadata": {
      "needs_background": "light"
     },
     "output_type": "display_data"
    }
   ],
   "source": [
    "#this is a plot of the first 20 chips of the first PRN in the dataframe, just to visualize it as a signal\n",
    "plot_prn_zeros(20, e1bcopy['Binary'][0], settings['chipRate'])\n",
    "\n",
    "#this is a plot to show the same PRN after the conversion\n",
    "plot_prn_modified(20, e1bmodifiedcopy['Modified'][0], settings['chipRate'])"
   ]
  },
  {
   "cell_type": "markdown",
   "id": "0d16530d",
   "metadata": {},
   "source": [
    "## BOC(1,1) MODULATION"
   ]
  },
  {
   "cell_type": "markdown",
   "id": "e80c22e2",
   "metadata": {},
   "source": [
    "As explained in the report, the BOC(1,1) modulation is obtained by multiplying the data message (with symbol period $T_b$), the PRN sequence (with chip period $T_c$) and a NRZ subcarrier with period $T_p = T_c$. The multiplication by the sinusoidal carrier is not needed, since we are supposed to work in baseband.\n",
    "\n",
    "The only thing that we miss is the subcarrier, that is generated in the following cell."
   ]
  },
  {
   "cell_type": "code",
   "execution_count": 10,
   "id": "e38c2400",
   "metadata": {},
   "outputs": [
    {
     "name": "stdout",
     "output_type": "stream",
     "text": [
      "Subcarrier length: 654720\n",
      "First 20 samples of the subcarrier:  [ 1 -1  1 -1  1 -1  1 -1  1 -1  1 -1  1 -1  1 -1  1 -1  1 -1]\n"
     ]
    },
    {
     "data": {
      "image/png": "[encoded data removed]",
      "text/plain": [
       "<Figure size 1080x360 with 1 Axes>"
      ]
     },
     "metadata": {
      "needs_background": "light"
     },
     "output_type": "display_data"
    }
   ],
   "source": [
    "#Now we generate the BOC subcarrier, that is a square NRZ wave. The period of the waveform is given by Tc.\n",
    "\n",
    "#The needed length of the subcarrier is 654720. This is because the spreaded sequence is composed of 327360\n",
    "#symbols (data message is 80 symbols, and each symbol is spreaded with a PRN, that has 4092\n",
    "#chips, so 80*4092 = 327360) and each symbol of the spreaded sequence (with duration of Tc) is kept constant for 2 \n",
    "#samples of the subcarrier, therefore 327360*2 = 654720. \n",
    "\n",
    "Rc = settings['chipRate']   # chip rate\n",
    "Tc = 1 / Rc     # chip period \n",
    "\n",
    "rep = 2 \n",
    "s = np.array([1, -1])\n",
    "subcarrier = np.tile(s, 327360) # we repeat the values 1 and -1 for 327360 times in order to have an array of 654720 elements                     \n",
    "\n",
    "#now we plot the first 20 samples of the subcarrier\n",
    "xticks = np.arange(0,10*Tc, Tc)\n",
    "yticks = [-1, 0, 1]\n",
    "\n",
    "t = np.arange(0, 10*Tc, Tc/2)\n",
    "fig = plt.figure(figsize=(15,5))\n",
    "ax = fig.add_subplot(1,1,1)\n",
    "ax.step(t, subcarrier[0:20], where='post', lw=3)\n",
    "ax.set_xticks(xticks)\n",
    "ax.set_yticks(yticks)\n",
    "ax.set_title('NRZ square subcarrier for BOC(1,1)', fontsize=15)\n",
    "ax.set_xlabel('Time [s]', fontsize=15)\n",
    "ax.set_ylabel('Subcarrier values', fontsize=15)\n",
    "ax.grid()\n",
    "\n",
    "print(\"Subcarrier length:\", len(subcarrier))  \n",
    "print(\"First 20 samples of the subcarrier: \", subcarrier[0:20])"
   ]
  },
  {
   "cell_type": "markdown",
   "id": "a73c0a78",
   "metadata": {},
   "source": [
    "### NOW WE CONSIDER ONLY THE FIRST PACKET BUT LATER WE WILL NEED TO APPLY THE PROCEDURE TO ALL THE PACKETS INSIDE THE MATRIX"
   ]
  },
  {
   "cell_type": "code",
   "execution_count": 11,
   "id": "81d7d80c",
   "metadata": {},
   "outputs": [
    {
     "name": "stdout",
     "output_type": "stream",
     "text": [
      "\n",
      " [0 1 0 1 1 0 0 0 0 0 0 0 0 0 0 1 0 0 0 0 1 1 1 1 1 1 1 1 1 1 1 1 1 1 1 0 0\n",
      " 0 0 0 0 0 0 0 0 0 0 0 0 0 1 0 1 0 1 1 1 0 0 0 1 1 0 1 0 1 0 1 1 0 0 0 1 1\n",
      " 0 0 0 0 0 0]\n"
     ]
    }
   ],
   "source": [
    "message = packets_matrix[0]\n",
    "print(\"\\n\", message)"
   ]
  },
  {
   "cell_type": "code",
   "execution_count": 12,
   "id": "2e083bb0",
   "metadata": {},
   "outputs": [
    {
     "name": "stdout",
     "output_type": "stream",
     "text": [
      "beginning m:  [0 1 0 1 1 0 0 0 0 0 0 0 0 0 0 1 0 0 0 0 1 1 1 1 1 1 1 1 1 1 1 1 1 1 1 0 0\n",
      " 0 0 0 0 0 0 0 0 0 0 0 0 0 1 0 1 0 1 1 1 0 0 0 1 1 0 1 0 1 0 1 1 0 0 0 1 1\n",
      " 0 0 0 0 0 0]\n",
      "After conversion m:  [  1 255   1 255 255   1   1   1   1   1   1   1   1   1   1 255   1   1\n",
      "   1   1 255 255 255 255 255 255 255 255 255 255 255 255 255 255 255   1\n",
      "   1   1   1   1   1   1   1   1   1   1   1   1   1   1 255   1 255   1\n",
      " 255 255 255   1   1   1 255 255   1 255   1 255   1 255 255   1   1   1\n",
      " 255 255   1   1   1   1   1   1]\n"
     ]
    },
    {
     "data": {
      "image/png": "[encoded data removed]",
      "text/plain": [
       "<Figure size 1080x360 with 3 Axes>"
      ]
     },
     "metadata": {
      "needs_background": "light"
     },
     "output_type": "display_data"
    },
    {
     "data": {
      "image/png": "[encoded data removed]",
      "text/plain": [
       "<Figure size 1080x360 with 3 Axes>"
      ]
     },
     "metadata": {
      "needs_background": "light"
     },
     "output_type": "display_data"
    },
    {
     "name": "stdout",
     "output_type": "stream",
     "text": [
      "m:  [  1 255   1 255 255   1   1   1   1   1   1   1   1   1   1 255   1   1\n",
      "   1   1 255 255 255 255 255 255 255 255 255 255 255 255 255 255 255   1\n",
      "   1   1   1   1   1   1   1   1   1   1   1   1   1   1 255   1 255   1\n",
      " 255 255 255   1   1   1 255 255   1 255   1 255   1 255 255   1   1   1\n",
      " 255 255   1   1   1   1   1   1]\n",
      "\n",
      "Modulated message:\n",
      " [-1.  1. -1. ...  1.  1. -1.]\n",
      "[[  1 255   1 255 255   1   1   1   1   1   1   1   1   1   1 255   1   1\n",
      "    1   1 255 255 255 255 255 255 255 255 255 255 255 255 255 255 255   1\n",
      "    1   1   1   1   1   1   1   1   1   1   1   1   1   1 255   1 255   1\n",
      "  255 255 255   1   1   1 255 255   1 255   1 255   1 255 255   1   1   1\n",
      "  255 255   1   1   1   1   1   1]\n",
      " [  0   1   0   1   1   0   0   0   0   0   0   0   0   0   0   1   0   0\n",
      "    0   1   1   1   1   1   1   1   1   1   1   1   1   1   1   1   1   0\n",
      "    0   0   0   0   0   0   0   0   0   0   0   0   0   0   1   0   1   0\n",
      "    1   1   1   1   1   1   0   0   0   0   0   1   0   1   0   1   0   0\n",
      "    0   1   0   0   0   0   0   0]\n",
      " [  0   1   0   1   1   0   0   0   0   0   0   0   0   0   0   1   0   0\n",
      "    1   0   1   1   1   1   1   1   1   1   1   1   1   1   1   1   1   0\n",
      "    0   0   0   0   0   0   0   0   0   0   0   0   0   0   0   1   0   1\n",
      "    0   1   1   1   0   1   1   0   0   1   1   1   1   0   1   1   1   1\n",
      "    0   1   0   0   0   0   0   0]\n",
      " [  0   1   0   1   1   0   0   0   0   0   0   0   0   0   0   1   0   0\n",
      "    1   1   0   0   0   0   0   0   0   0   0   0   0   0   0   0   0   1\n",
      "    1   1   1   1   1   1   1   1   1   1   1   1   1   1   0   0   0   1\n",
      "    1   1   0   1   1   0   0   1   1   0   1   1   1   0   0   1   0   1\n",
      "    0   1   0   0   0   0   0   0]\n",
      " [  0   1   0   1   1   0   0   0   0   0   0   0   0   0   0   1   0   1\n",
      "    0   0   1   1   1   1   1   1   1   1   1   1   1   1   1   1   1   0\n",
      "    0   0   0   0   0   0   0   0   0   0   0   0   0   0   0   0   1   1\n",
      "    1   0   0   0   1   1   0   1   1   0   1   1   0   0   0   0   0   1\n",
      "    1   1   0   0   0   0   0   0]]\n"
     ]
    }
   ],
   "source": [
    "modulated = boc(message, subcarrier, settings[\"bitRate\"], settings[\"chipRate\"], settings['SV_PRN_ID'], np.array(e1bmodifiedcopy['Modified']), True)\n",
    "print(\"\\nModulated message:\\n\", modulated)\n",
    "\n",
    "print(packets_matrix)"
   ]
  },
  {
   "cell_type": "markdown",
   "id": "a12e76cd",
   "metadata": {},
   "source": [
    "## SAMPLING OF THE SIGNAL"
   ]
  },
  {
   "cell_type": "markdown",
   "id": "b97be26f",
   "metadata": {},
   "source": [
    "The following step consists in sampling the signal. The sampling frequency, contained in the settings.ini file, is set to 4.092 MHz. As explained in the report"
   ]
  },
  {
   "cell_type": "code",
   "execution_count": null,
   "id": "58710cbc",
   "metadata": {},
   "outputs": [],
   "source": []
  }
 ],
 "metadata": {
  "kernelspec": {
   "display_name": "Python 3",
   "language": "python",
   "name": "python3"
  },
  "language_info": {
   "codemirror_mode": {
    "name": "ipython",
    "version": 3
   },
   "file_extension": ".py",
   "mimetype": "text/x-python",
   "name": "python",
   "nbconvert_exporter": "python",
   "pygments_lexer": "ipython3",
   "version": "3.8.8"
  }
 },
 "nbformat": 4,
 "nbformat_minor": 5
}
