{
 "cells": [
  {
   "cell_type": "code",
   "execution_count": 1,
   "id": "84711acb",
   "metadata": {},
   "outputs": [],
   "source": [
    "from functions import *\n",
    "from math import pi\n",
    "import warnings\n",
    "warnings.filterwarnings('ignore')"
   ]
  },
  {
   "cell_type": "markdown",
   "id": "31566f52",
   "metadata": {},
   "source": [
    "# USER TRANSMITTER"
   ]
  },
  {
   "cell_type": "markdown",
   "id": "1e2e7fe4",
   "metadata": {},
   "source": [
    "Project done by Giulio Conca, Mattia Sandri and Shalini Sree Mada.\n",
    "\n",
    "Code developed by:\n",
    "* Giulio Conca (2028844)\n",
    "* Mattia Sandri (2021425)\n",
    "\n",
    "Report written by:\n",
    "* Shalini Sree Mada (2049543)"
   ]
  },
  {
   "cell_type": "markdown",
   "id": "aca8a872",
   "metadata": {},
   "source": [
    "## INTRODUCTION"
   ]
  },
  {
   "cell_type": "markdown",
   "id": "506ab04f",
   "metadata": {},
   "source": [
    "The aim of the project is to simulate the transmission of a sequence of messages, transmitted by a user placed on the surface of the Moon and received by a satellite in orbit. The signal at the receiver is sampled in I/Q samples, that are quantized and then written inside a binary file. The software produces one binary file for each transmitted packet.\n",
    "\n",
    "The messages to transmit are either ACKs or NACKs and the signals associated to each packet is obtained by using the Binary Offset Carrier BOC(1,1) modulation.\n",
    "The software simulates the propagation through the channel by introducing an attenuation in the transmitted signal and a delay due to the propagation. The noise, that is supposed to be AWGN, is included directly in the I/Q samples, before the quantization. \n",
    "\n",
    "All the functions used in this notebook are stored inside the \"functions.py\" file, provided in the delivered folder.\n",
    "\n",
    "**Note**: for the development of the project, we first show the entire process for the first packet to transmit (showing all the functions one by one), to let the reader understand the process, and then we run a for cycle on the remaining packets by calling all the functions one after the other."
   ]
  },
  {
   "cell_type": "markdown",
   "id": "5336b958",
   "metadata": {},
   "source": [
    "## LOADING ALL THE FILES"
   ]
  },
  {
   "cell_type": "markdown",
   "id": "a5570abe",
   "metadata": {},
   "source": [
    "The first thing to do is loading all the files that contain the parameters used for the software: the settings.ini file and the N_ACK.csv file (that contains the messages that are supposed to be ACKed or NACKed), while the output of the orbit propagator group, that contains the orbit information, will be loaded later."
   ]
  },
  {
   "cell_type": "code",
   "execution_count": 2,
   "id": "cc67d5de",
   "metadata": {},
   "outputs": [
    {
     "name": "stdout",
     "output_type": "stream",
     "text": [
      "fSampling: 4092000.0\n",
      "quantizationBits: 16\n",
      "scenarioDuration: 5.05\n",
      "SV_PRN_ID: 1\n",
      "CRCpolynomial: A23DCB\n",
      "SYNCpattern: 0101100000\n",
      "TAILpattern: 000000\n",
      "SVIDlength: 6\n",
      "MIDlength: 4\n",
      "MBODYlength_TX: 80\n",
      "MBODYlength_ACK: 30\n",
      "CRClength: 24\n",
      "nPRN_x_Symbol: 1\n",
      "nChip_x_PRN: 4092\n",
      "chipRate: 1023000.0\n",
      "bitRate: 250\n",
      "maxDoppler: 100000.0\n",
      "transmitterGain: 30\n",
      "receiverGain: 15\n",
      "transmittedPower: 27\n",
      "SNR: 15\n"
     ]
    }
   ],
   "source": [
    "f = open('settings.ini')\n",
    "settings = json.load(f)\n",
    " \n",
    "for i in settings:\n",
    "    print(i, end=': ')\n",
    "    print(settings[i])\n",
    "    \n",
    "f.close()\n",
    "\n",
    "#the transmitted power is in Watt, while the transmitter and receiver gains are in dB, as well as the SNR"
   ]
  },
  {
   "cell_type": "code",
   "execution_count": 3,
   "id": "37d1952d",
   "metadata": {},
   "outputs": [
    {
     "name": "stdout",
     "output_type": "stream",
     "text": [
      "Packets to transmit:  5\n"
     ]
    },
    {
     "data": {
      "text/html": [
       "<div>\n",
       "<style scoped>\n",
       "    .dataframe tbody tr th:only-of-type {\n",
       "        vertical-align: middle;\n",
       "    }\n",
       "\n",
       "    .dataframe tbody tr th {\n",
       "        vertical-align: top;\n",
       "    }\n",
       "\n",
       "    .dataframe thead th {\n",
       "        text-align: right;\n",
       "    }\n",
       "</style>\n",
       "<table border=\"1\" class=\"dataframe\">\n",
       "  <thead>\n",
       "    <tr style=\"text-align: right;\">\n",
       "      <th></th>\n",
       "      <th>MSGID</th>\n",
       "      <th>GOOD</th>\n",
       "    </tr>\n",
       "  </thead>\n",
       "  <tbody>\n",
       "    <tr>\n",
       "      <th>0</th>\n",
       "      <td>0</td>\n",
       "      <td>1</td>\n",
       "    </tr>\n",
       "    <tr>\n",
       "      <th>1</th>\n",
       "      <td>1</td>\n",
       "      <td>1</td>\n",
       "    </tr>\n",
       "    <tr>\n",
       "      <th>2</th>\n",
       "      <td>2</td>\n",
       "      <td>1</td>\n",
       "    </tr>\n",
       "    <tr>\n",
       "      <th>3</th>\n",
       "      <td>3</td>\n",
       "      <td>0</td>\n",
       "    </tr>\n",
       "    <tr>\n",
       "      <th>4</th>\n",
       "      <td>4</td>\n",
       "      <td>1</td>\n",
       "    </tr>\n",
       "  </tbody>\n",
       "</table>\n",
       "</div>"
      ],
      "text/plain": [
       "   MSGID  GOOD\n",
       "0      0     1\n",
       "1      1     1\n",
       "2      2     1\n",
       "3      3     0\n",
       "4      4     1"
      ]
     },
     "execution_count": 3,
     "metadata": {},
     "output_type": "execute_result"
    }
   ],
   "source": [
    "#reading the file with the packets to transmit: if GOOD = 1 it's an ACK, if GOOD = 0 it's a NACK\n",
    "\n",
    "acks = pd.read_csv(\"N_ACK.csv\")\n",
    "num_packets = acks.shape[0]\n",
    "print(\"Packets to transmit: \", num_packets)\n",
    "acks"
   ]
  },
  {
   "cell_type": "markdown",
   "id": "53daea04",
   "metadata": {},
   "source": [
    "Now we need to create the messages, and we store them into a matrix. Each row of the matrix corresponds to a message."
   ]
  },
  {
   "cell_type": "code",
   "execution_count": 4,
   "id": "1181b4b0",
   "metadata": {},
   "outputs": [
    {
     "name": "stdout",
     "output_type": "stream",
     "text": [
      "\n",
      "Matrix of packets:\n",
      "[[0 1 0 1 1 0 0 0 0 0 0 0 0 0 0 1 0 0 0 0 1 1 1 1 1 1 1 1 1 1 1 1 1 1 1 0\n",
      "  0 0 0 0 0 0 0 0 0 0 0 0 0 0 1 0 1 0 1 1 1 0 0 0 1 1 0 1 0 1 0 1 1 0 0 0\n",
      "  1 1 0 0 0 0 0 0]\n",
      " [0 1 0 1 1 0 0 0 0 0 0 0 0 0 0 1 0 0 0 1 1 1 1 1 1 1 1 1 1 1 1 1 1 1 1 0\n",
      "  0 0 0 0 0 0 0 0 0 0 0 0 0 0 1 0 1 0 1 1 1 1 1 1 0 0 0 0 0 1 0 1 0 1 0 0\n",
      "  0 1 0 0 0 0 0 0]\n",
      " [0 1 0 1 1 0 0 0 0 0 0 0 0 0 0 1 0 0 1 0 1 1 1 1 1 1 1 1 1 1 1 1 1 1 1 0\n",
      "  0 0 0 0 0 0 0 0 0 0 0 0 0 0 0 1 0 1 0 1 1 1 0 1 1 0 0 1 1 1 1 0 1 1 1 1\n",
      "  0 1 0 0 0 0 0 0]\n",
      " [0 1 0 1 1 0 0 0 0 0 0 0 0 0 0 1 0 0 1 1 0 0 0 0 0 0 0 0 0 0 0 0 0 0 0 1\n",
      "  1 1 1 1 1 1 1 1 1 1 1 1 1 1 0 0 0 1 1 1 0 1 1 0 0 1 1 0 1 1 1 0 0 1 0 1\n",
      "  0 1 0 0 0 0 0 0]\n",
      " [0 1 0 1 1 0 0 0 0 0 0 0 0 0 0 1 0 1 0 0 1 1 1 1 1 1 1 1 1 1 1 1 1 1 1 0\n",
      "  0 0 0 0 0 0 0 0 0 0 0 0 0 0 0 0 1 1 1 0 0 0 1 1 0 1 1 0 1 1 0 0 0 0 0 1\n",
      "  1 1 0 0 0 0 0 0]]\n"
     ]
    }
   ],
   "source": [
    "#we create the empty matrix that will contain all the packets (each row of the matrix is a packet). Each packet\n",
    "#has a length of 80 bits. The CRC is of 24 bits\n",
    "\n",
    "packet_length = len(settings['SYNCpattern']) + len(settings['TAILpattern']) + settings['SVIDlength'] + settings['MIDlength'] + settings['MBODYlength_ACK'] + 24 \n",
    "packets_matrix = np.zeros(shape=(num_packets, packet_length), dtype=np.int8)\n",
    "\n",
    "#each row of the file is added to a list called N_ACK. Based on the value of the GOOD column, either a ACK or \n",
    "#a NACK is generated, by using the function createMessageAck (or createMessageNack), defined inside the functions\n",
    "#file\n",
    "\n",
    "f = open('N_ACK.csv')\n",
    "csv_file = csv.reader(f)\n",
    "N_ACK = []\n",
    "for row in csv_file:\n",
    "        N_ACK.append(row)\n",
    "        \n",
    "for i in range(len(N_ACK)-1):\n",
    "    if(N_ACK[i+1][1]=='1'):\n",
    "        msg = createMessageACK(settings['SYNCpattern'], settings['SV_PRN_ID'], int(N_ACK[i+1][0]))\n",
    "    if(N_ACK[i+1][1]=='0'):\n",
    "        msg = createMessageNACK(settings['SYNCpattern'], settings['SV_PRN_ID'], int(N_ACK[i+1][0]))\n",
    "    packets_matrix[i] = msg\n",
    "\n",
    "#packets_matrix = packets_matrix.astype(np.int)\n",
    "print(\"\\nMatrix of packets:\")\n",
    "print(packets_matrix)"
   ]
  },
  {
   "cell_type": "code",
   "execution_count": 5,
   "id": "2755ab0c",
   "metadata": {},
   "outputs": [
    {
     "data": {
      "text/html": [
       "<div>\n",
       "<style scoped>\n",
       "    .dataframe tbody tr th:only-of-type {\n",
       "        vertical-align: middle;\n",
       "    }\n",
       "\n",
       "    .dataframe tbody tr th {\n",
       "        vertical-align: top;\n",
       "    }\n",
       "\n",
       "    .dataframe thead th {\n",
       "        text-align: right;\n",
       "    }\n",
       "</style>\n",
       "<table border=\"1\" class=\"dataframe\">\n",
       "  <thead>\n",
       "    <tr style=\"text-align: right;\">\n",
       "      <th></th>\n",
       "      <th>Code index</th>\n",
       "      <th>Hexadecimal</th>\n",
       "    </tr>\n",
       "  </thead>\n",
       "  <tbody>\n",
       "    <tr>\n",
       "      <th>0</th>\n",
       "      <td>1</td>\n",
       "      <td>F5D710130573541B9DBD4FD9E9B20A0D59D144C54BC793...</td>\n",
       "    </tr>\n",
       "    <tr>\n",
       "      <th>1</th>\n",
       "      <td>2</td>\n",
       "      <td>96B856A629F581D1344FEF597835FE60434625D077ECF0...</td>\n",
       "    </tr>\n",
       "    <tr>\n",
       "      <th>2</th>\n",
       "      <td>3</td>\n",
       "      <td>E57DE19A3E4A8C122FCB1DD6584B3D2DAE364D800F9C5A...</td>\n",
       "    </tr>\n",
       "    <tr>\n",
       "      <th>3</th>\n",
       "      <td>4</td>\n",
       "      <td>C0FC4C72A12023BA7093C86775DF3D2F42C7CEDE616876...</td>\n",
       "    </tr>\n",
       "    <tr>\n",
       "      <th>4</th>\n",
       "      <td>5</td>\n",
       "      <td>EA9596357B343DFC31D5875CC0E94117A33651472E476D...</td>\n",
       "    </tr>\n",
       "  </tbody>\n",
       "</table>\n",
       "</div>"
      ],
      "text/plain": [
       "   Code index                                        Hexadecimal\n",
       "0           1  F5D710130573541B9DBD4FD9E9B20A0D59D144C54BC793...\n",
       "1           2  96B856A629F581D1344FEF597835FE60434625D077ECF0...\n",
       "2           3  E57DE19A3E4A8C122FCB1DD6584B3D2DAE364D800F9C5A...\n",
       "3           4  C0FC4C72A12023BA7093C86775DF3D2F42C7CEDE616876...\n",
       "4           5  EA9596357B343DFC31D5875CC0E94117A33651472E476D..."
      ]
     },
     "execution_count": 5,
     "metadata": {},
     "output_type": "execute_result"
    }
   ],
   "source": [
    "filename = \"E1B - Gal.txt\"\n",
    "\n",
    "# defining the name of the column of the dataframe called e1b\n",
    "columns = [\"Hexadecimal\"]\n",
    "\n",
    "#reading the file\n",
    "e1b = pd.read_table(filename, sep=\"\\r\\n\", header=None, names=columns)\n",
    "\n",
    "# deleting the first 15 characters (not part of the code)\n",
    "e1b['Hexadecimal'] = [el[16::] for el in e1b['Hexadecimal']]\n",
    "\n",
    "# creating a new column with the codes indexes and placing it as first column\n",
    "e1b['Code index'] = np.arange(1,51,1)\n",
    "column_list = [\"Code index\", \"Hexadecimal\"]\n",
    "e1b = e1b.reindex(columns=column_list)\n",
    "\n",
    "# printing the first lines of the dataframe\n",
    "e1b.head()"
   ]
  },
  {
   "cell_type": "code",
   "execution_count": 6,
   "id": "f128d6dc",
   "metadata": {},
   "outputs": [
    {
     "data": {
      "text/html": [
       "<div>\n",
       "<style scoped>\n",
       "    .dataframe tbody tr th:only-of-type {\n",
       "        vertical-align: middle;\n",
       "    }\n",
       "\n",
       "    .dataframe tbody tr th {\n",
       "        vertical-align: top;\n",
       "    }\n",
       "\n",
       "    .dataframe thead th {\n",
       "        text-align: right;\n",
       "    }\n",
       "</style>\n",
       "<table border=\"1\" class=\"dataframe\">\n",
       "  <thead>\n",
       "    <tr style=\"text-align: right;\">\n",
       "      <th></th>\n",
       "      <th>Code index</th>\n",
       "      <th>Hexadecimal</th>\n",
       "      <th>Binary</th>\n",
       "    </tr>\n",
       "  </thead>\n",
       "  <tbody>\n",
       "    <tr>\n",
       "      <th>0</th>\n",
       "      <td>1</td>\n",
       "      <td>F5D710130573541B9DBD4FD9E9B20A0D59D144C54BC793...</td>\n",
       "      <td>[1, 1, 1, 1, 0, 1, 0, 1, 1, 1, 0, 1, 0, 1, 1, ...</td>\n",
       "    </tr>\n",
       "    <tr>\n",
       "      <th>1</th>\n",
       "      <td>2</td>\n",
       "      <td>96B856A629F581D1344FEF597835FE60434625D077ECF0...</td>\n",
       "      <td>[1, 0, 0, 1, 0, 1, 1, 0, 1, 0, 1, 1, 1, 0, 0, ...</td>\n",
       "    </tr>\n",
       "    <tr>\n",
       "      <th>2</th>\n",
       "      <td>3</td>\n",
       "      <td>E57DE19A3E4A8C122FCB1DD6584B3D2DAE364D800F9C5A...</td>\n",
       "      <td>[1, 1, 1, 0, 0, 1, 0, 1, 0, 1, 1, 1, 1, 1, 0, ...</td>\n",
       "    </tr>\n",
       "    <tr>\n",
       "      <th>3</th>\n",
       "      <td>4</td>\n",
       "      <td>C0FC4C72A12023BA7093C86775DF3D2F42C7CEDE616876...</td>\n",
       "      <td>[1, 1, 0, 0, 0, 0, 0, 0, 1, 1, 1, 1, 1, 1, 0, ...</td>\n",
       "    </tr>\n",
       "    <tr>\n",
       "      <th>4</th>\n",
       "      <td>5</td>\n",
       "      <td>EA9596357B343DFC31D5875CC0E94117A33651472E476D...</td>\n",
       "      <td>[1, 1, 1, 0, 1, 0, 1, 0, 1, 0, 0, 1, 0, 1, 0, ...</td>\n",
       "    </tr>\n",
       "  </tbody>\n",
       "</table>\n",
       "</div>"
      ],
      "text/plain": [
       "   Code index                                        Hexadecimal  \\\n",
       "0           1  F5D710130573541B9DBD4FD9E9B20A0D59D144C54BC793...   \n",
       "1           2  96B856A629F581D1344FEF597835FE60434625D077ECF0...   \n",
       "2           3  E57DE19A3E4A8C122FCB1DD6584B3D2DAE364D800F9C5A...   \n",
       "3           4  C0FC4C72A12023BA7093C86775DF3D2F42C7CEDE616876...   \n",
       "4           5  EA9596357B343DFC31D5875CC0E94117A33651472E476D...   \n",
       "\n",
       "                                              Binary  \n",
       "0  [1, 1, 1, 1, 0, 1, 0, 1, 1, 1, 0, 1, 0, 1, 1, ...  \n",
       "1  [1, 0, 0, 1, 0, 1, 1, 0, 1, 0, 1, 1, 1, 0, 0, ...  \n",
       "2  [1, 1, 1, 0, 0, 1, 0, 1, 0, 1, 1, 1, 1, 1, 0, ...  \n",
       "3  [1, 1, 0, 0, 0, 0, 0, 0, 1, 1, 1, 1, 1, 1, 0, ...  \n",
       "4  [1, 1, 1, 0, 1, 0, 1, 0, 1, 0, 0, 1, 0, 1, 0, ...  "
      ]
     },
     "execution_count": 6,
     "metadata": {},
     "output_type": "execute_result"
    }
   ],
   "source": [
    "# creation of a new column of the dataframe with the binary representation of each PRN\n",
    "e1b['Binary'] = e1b['Hexadecimal'].apply(hex2bin)\n",
    "\n",
    "#creation of a copy of the dataframe to use without modifying the original dataframe\n",
    "e1bcopy = e1b.copy()\n",
    "e1b.head()"
   ]
  },
  {
   "cell_type": "code",
   "execution_count": 7,
   "id": "ce53854c",
   "metadata": {},
   "outputs": [
    {
     "name": "stdout",
     "output_type": "stream",
     "text": [
      "First 8 bits:  [1 0 0 1 0 1 1 1]\n",
      "Last 8 bits:  [0 0 1 0 0 0 0 0]\n"
     ]
    }
   ],
   "source": [
    "#To verify if the conversion was successful, we print the last code in binary:\n",
    "#To check the last PRN, the reader can look at the last row in the file \"E1b - Gal.txt\" in the folder\n",
    "\n",
    "# since the last code starts with 9 7 ... in hexadecimal, the binary representation should start with \n",
    "# 1001 0111 ...\n",
    "# and since it ends with ... 2 0, the binary representation should end with\n",
    "# ... 0010 0000\n",
    "\n",
    "print(\"First 8 bits: \", e1b['Binary'][49][0:8])    \n",
    "print(\"Last 8 bits: \", e1b['Binary'][49][-8:])    "
   ]
  },
  {
   "cell_type": "markdown",
   "id": "62ee5f4d",
   "metadata": {},
   "source": [
    "To obtain the BOC(1,1) modulation we need first to modify the PRNs, as explained in the report, in order to obtain values equal to 1 and -1 (and not 1 and 0 as before). This is done by adding a new column to the dataframe. The conversion is done by the corresponding function (see functions file)."
   ]
  },
  {
   "cell_type": "code",
   "execution_count": 8,
   "id": "9b4ffa7a",
   "metadata": {},
   "outputs": [
    {
     "data": {
      "text/html": [
       "<div>\n",
       "<style scoped>\n",
       "    .dataframe tbody tr th:only-of-type {\n",
       "        vertical-align: middle;\n",
       "    }\n",
       "\n",
       "    .dataframe tbody tr th {\n",
       "        vertical-align: top;\n",
       "    }\n",
       "\n",
       "    .dataframe thead th {\n",
       "        text-align: right;\n",
       "    }\n",
       "</style>\n",
       "<table border=\"1\" class=\"dataframe\">\n",
       "  <thead>\n",
       "    <tr style=\"text-align: right;\">\n",
       "      <th></th>\n",
       "      <th>Code index</th>\n",
       "      <th>Hexadecimal</th>\n",
       "      <th>Binary</th>\n",
       "      <th>Modified</th>\n",
       "    </tr>\n",
       "  </thead>\n",
       "  <tbody>\n",
       "    <tr>\n",
       "      <th>0</th>\n",
       "      <td>1</td>\n",
       "      <td>F5D710130573541B9DBD4FD9E9B20A0D59D144C54BC793...</td>\n",
       "      <td>[1, 1, 1, 1, 0, 1, 0, 1, 1, 1, 0, 1, 0, 1, 1, ...</td>\n",
       "      <td>[-1, -1, -1, -1, 1, -1, 1, -1, -1, -1, 1, -1, ...</td>\n",
       "    </tr>\n",
       "    <tr>\n",
       "      <th>1</th>\n",
       "      <td>2</td>\n",
       "      <td>96B856A629F581D1344FEF597835FE60434625D077ECF0...</td>\n",
       "      <td>[1, 0, 0, 1, 0, 1, 1, 0, 1, 0, 1, 1, 1, 0, 0, ...</td>\n",
       "      <td>[-1, 1, 1, -1, 1, -1, -1, 1, -1, 1, -1, -1, -1...</td>\n",
       "    </tr>\n",
       "    <tr>\n",
       "      <th>2</th>\n",
       "      <td>3</td>\n",
       "      <td>E57DE19A3E4A8C122FCB1DD6584B3D2DAE364D800F9C5A...</td>\n",
       "      <td>[1, 1, 1, 0, 0, 1, 0, 1, 0, 1, 1, 1, 1, 1, 0, ...</td>\n",
       "      <td>[-1, -1, -1, 1, 1, -1, 1, -1, 1, -1, -1, -1, -...</td>\n",
       "    </tr>\n",
       "    <tr>\n",
       "      <th>3</th>\n",
       "      <td>4</td>\n",
       "      <td>C0FC4C72A12023BA7093C86775DF3D2F42C7CEDE616876...</td>\n",
       "      <td>[1, 1, 0, 0, 0, 0, 0, 0, 1, 1, 1, 1, 1, 1, 0, ...</td>\n",
       "      <td>[-1, -1, 1, 1, 1, 1, 1, 1, -1, -1, -1, -1, -1,...</td>\n",
       "    </tr>\n",
       "    <tr>\n",
       "      <th>4</th>\n",
       "      <td>5</td>\n",
       "      <td>EA9596357B343DFC31D5875CC0E94117A33651472E476D...</td>\n",
       "      <td>[1, 1, 1, 0, 1, 0, 1, 0, 1, 0, 0, 1, 0, 1, 0, ...</td>\n",
       "      <td>[-1, -1, -1, 1, -1, 1, -1, 1, -1, 1, 1, -1, 1,...</td>\n",
       "    </tr>\n",
       "  </tbody>\n",
       "</table>\n",
       "</div>"
      ],
      "text/plain": [
       "   Code index                                        Hexadecimal  \\\n",
       "0           1  F5D710130573541B9DBD4FD9E9B20A0D59D144C54BC793...   \n",
       "1           2  96B856A629F581D1344FEF597835FE60434625D077ECF0...   \n",
       "2           3  E57DE19A3E4A8C122FCB1DD6584B3D2DAE364D800F9C5A...   \n",
       "3           4  C0FC4C72A12023BA7093C86775DF3D2F42C7CEDE616876...   \n",
       "4           5  EA9596357B343DFC31D5875CC0E94117A33651472E476D...   \n",
       "\n",
       "                                              Binary  \\\n",
       "0  [1, 1, 1, 1, 0, 1, 0, 1, 1, 1, 0, 1, 0, 1, 1, ...   \n",
       "1  [1, 0, 0, 1, 0, 1, 1, 0, 1, 0, 1, 1, 1, 0, 0, ...   \n",
       "2  [1, 1, 1, 0, 0, 1, 0, 1, 0, 1, 1, 1, 1, 1, 0, ...   \n",
       "3  [1, 1, 0, 0, 0, 0, 0, 0, 1, 1, 1, 1, 1, 1, 0, ...   \n",
       "4  [1, 1, 1, 0, 1, 0, 1, 0, 1, 0, 0, 1, 0, 1, 0, ...   \n",
       "\n",
       "                                            Modified  \n",
       "0  [-1, -1, -1, -1, 1, -1, 1, -1, -1, -1, 1, -1, ...  \n",
       "1  [-1, 1, 1, -1, 1, -1, -1, 1, -1, 1, -1, -1, -1...  \n",
       "2  [-1, -1, -1, 1, 1, -1, 1, -1, 1, -1, -1, -1, -...  \n",
       "3  [-1, -1, 1, 1, 1, 1, 1, 1, -1, -1, -1, -1, -1,...  \n",
       "4  [-1, -1, -1, 1, -1, 1, -1, 1, -1, 1, 1, -1, 1,...  "
      ]
     },
     "execution_count": 8,
     "metadata": {},
     "output_type": "execute_result"
    }
   ],
   "source": [
    "#we create different dataframes to avoid any modification of the original ones\n",
    "e1bmodified = e1b.copy()\n",
    "e1bmodified['Modified'] = e1bmodified['Binary'].apply(conversion)\n",
    "\n",
    "e1bmodifiedcopy = e1bmodified.copy()\n",
    "e1bmodified.head()"
   ]
  },
  {
   "cell_type": "code",
   "execution_count": 9,
   "id": "0148bb5b",
   "metadata": {},
   "outputs": [
    {
     "data": {
      "image/png": "[encoded data removed]",
      "text/plain": [
       "<Figure size 1080x360 with 1 Axes>"
      ]
     },
     "metadata": {
      "needs_background": "light"
     },
     "output_type": "display_data"
    },
    {
     "data": {
      "image/png": "[encoded data removed]",
      "text/plain": [
       "<Figure size 1080x360 with 1 Axes>"
      ]
     },
     "metadata": {
      "needs_background": "light"
     },
     "output_type": "display_data"
    }
   ],
   "source": [
    "#this is a plot of the first 20 chips of the first PRN in the dataframe, just to visualize it as a signal\n",
    "plot_prn_zeros(20, e1bcopy['Binary'][0], settings['chipRate'])\n",
    "\n",
    "#this is a plot to show the same PRN after the conversion\n",
    "plot_prn_modified(20, e1bmodifiedcopy['Modified'][0], settings['chipRate'])"
   ]
  },
  {
   "cell_type": "markdown",
   "id": "0d16530d",
   "metadata": {},
   "source": [
    "## BOC(1,1) MODULATION"
   ]
  },
  {
   "cell_type": "markdown",
   "id": "e80c22e2",
   "metadata": {},
   "source": [
    "As explained in the report, the BOC(1,1) modulation is obtained by multiplying the data message (with symbol period $T_b$), the PRN sequence (with chip period $T_c$) and a NRZ subcarrier with period $T_p = T_c$. The multiplication by the sinusoidal carrier is not needed, since we are supposed to work in baseband.\n",
    "\n",
    "The only thing that we miss is the subcarrier, that is generated in the following cell."
   ]
  },
  {
   "cell_type": "code",
   "execution_count": 10,
   "id": "e38c2400",
   "metadata": {},
   "outputs": [
    {
     "name": "stdout",
     "output_type": "stream",
     "text": [
      "Subcarrier length: 654720\n",
      "First 20 samples of the subcarrier:  [ 1 -1  1 -1  1 -1  1 -1  1 -1  1 -1  1 -1  1 -1  1 -1  1 -1]\n"
     ]
    },
    {
     "data": {
      "image/png": "[encoded data removed]",
      "text/plain": [
       "<Figure size 1080x360 with 1 Axes>"
      ]
     },
     "metadata": {
      "needs_background": "light"
     },
     "output_type": "display_data"
    }
   ],
   "source": [
    "#Now we generate the BOC subcarrier, that is a square NRZ wave. The period of the waveform is given by Tc.\n",
    "\n",
    "#The needed length of the subcarrier is 654720. This is because the spreaded sequence is composed of 327360\n",
    "#symbols (data message is 80 symbols, and each symbol is spreaded with a PRN, that has 4092\n",
    "#chips, so 80*4092 = 327360) and each symbol of the spreaded sequence (with duration of Tc) is kept constant for 2 \n",
    "#samples of the subcarrier, therefore 327360*2 = 654720. \n",
    "\n",
    "subcarrier_length = packet_length*settings['nPRN_x_Symbol']*settings['nChip_x_PRN']*2\n",
    "\n",
    "Rc = settings['chipRate']   # chip rate\n",
    "Tc = 1 / Rc     # chip period \n",
    "\n",
    "rep = 2 \n",
    "s = np.array([1, -1])\n",
    "subcarrier = np.tile(s, int(subcarrier_length/2)) # we repeat the values 1 and -1 for 327360 times in order to have an array of 654720 elements                     \n",
    "\n",
    "#now we plot the first 20 samples of the subcarrier\n",
    "xticks = np.arange(0,10*Tc, Tc)\n",
    "yticks = [-1, 0, 1]\n",
    "\n",
    "t = np.arange(0, 10*Tc, Tc/2)\n",
    "fig = plt.figure(figsize=(15,5))\n",
    "ax = fig.add_subplot(1,1,1)\n",
    "ax.step(t, subcarrier[0:20], where='post', lw=3)\n",
    "ax.set_xticks(xticks)\n",
    "ax.set_yticks(yticks)\n",
    "ax.set_title('NRZ square subcarrier for BOC(1,1)', fontsize=15)\n",
    "ax.set_xlabel('Time [s]', fontsize=15)\n",
    "ax.set_ylabel('Subcarrier values', fontsize=15)\n",
    "ax.grid()\n",
    "\n",
    "print(\"Subcarrier length:\", len(subcarrier))  \n",
    "print(\"First 20 samples of the subcarrier: \", subcarrier[0:20])"
   ]
  },
  {
   "cell_type": "markdown",
   "id": "76324b37",
   "metadata": {},
   "source": [
    "Now that we have the subcarrier, we can do the modulation using the function called \"boc\", that returns the modulated signal and the plot of the first samples of it.\n",
    "\n",
    "To start, we consider the first packet, but later this must be done to all the packets inside the matrix."
   ]
  },
  {
   "cell_type": "code",
   "execution_count": 11,
   "id": "81d7d80c",
   "metadata": {},
   "outputs": [
    {
     "name": "stdout",
     "output_type": "stream",
     "text": [
      "\n",
      " [0 1 0 1 1 0 0 0 0 0 0 0 0 0 0 1 0 0 0 0 1 1 1 1 1 1 1 1 1 1 1 1 1 1 1 0 0\n",
      " 0 0 0 0 0 0 0 0 0 0 0 0 0 1 0 1 0 1 1 1 0 0 0 1 1 0 1 0 1 0 1 1 0 0 0 1 1\n",
      " 0 0 0 0 0 0]\n"
     ]
    }
   ],
   "source": [
    "message = packets_matrix[0]\n",
    "print(\"\\n\", message)"
   ]
  },
  {
   "cell_type": "code",
   "execution_count": 12,
   "id": "2e083bb0",
   "metadata": {
    "scrolled": false
   },
   "outputs": [
    {
     "data": {
      "image/png": "[encoded data removed]",
      "text/plain": [
       "<Figure size 1080x360 with 3 Axes>"
      ]
     },
     "metadata": {
      "needs_background": "light"
     },
     "output_type": "display_data"
    },
    {
     "data": {
      "image/png": "[encoded data removed]",
      "text/plain": [
       "<Figure size 1080x360 with 3 Axes>"
      ]
     },
     "metadata": {
      "needs_background": "light"
     },
     "output_type": "display_data"
    },
    {
     "name": "stdout",
     "output_type": "stream",
     "text": [
      "\n",
      "Modulated message:\n",
      " [-1.  1. -1. ...  1.  1. -1.]\n"
     ]
    }
   ],
   "source": [
    "modulated = boc(message, subcarrier, settings[\"bitRate\"], settings[\"chipRate\"], \n",
    "                np.array(e1bmodifiedcopy['Modified']), settings['SV_PRN_ID'], settings['nPRN_x_Symbol'], True)\n",
    "print(\"\\nModulated message:\\n\", modulated)"
   ]
  },
  {
   "cell_type": "markdown",
   "id": "a12e76cd",
   "metadata": {},
   "source": [
    "## SAMPLING OF THE SIGNAL"
   ]
  },
  {
   "cell_type": "markdown",
   "id": "b97be26f",
   "metadata": {},
   "source": [
    "The following step consists in sampling the signal. The sampling frequency, contained in the settings.ini file, is set to 4.092 MHz. As explained in the report, it's a good choice since it is a multiple of the chip rate.\n",
    "Since the modulated signal has a sample every $\\frac{T_c}{2}$ seconds, and we use a sampling period of $\\frac{T_c}{4}$, to simulate the sampling we just need to repeat each value of the modulated signal twice. This is done by the \"sampling\" function."
   ]
  },
  {
   "cell_type": "code",
   "execution_count": 13,
   "id": "2d0e870a",
   "metadata": {},
   "outputs": [
    {
     "name": "stdout",
     "output_type": "stream",
     "text": [
      "[0.00000000e+00 2.44379277e-07 4.88758553e-07 ... 1.59999927e+00\n",
      " 1.59999951e+00 1.59999976e+00]\n"
     ]
    }
   ],
   "source": [
    "#for the sampling function, we also need to pass the total time vector, i.e. the time vector of all the packets\n",
    "#at the transmitter. To compute it we also need the final length of the modulated signal after the sampling\n",
    "\n",
    "final_length = int(len(modulated)*(0.5*(1/settings['chipRate']) / (1/settings['fSampling'])))   #1309440\n",
    "\n",
    "total_time_vector_tx = np.arange(0, num_packets*final_length*(1/settings['fSampling']), 1/settings['fSampling'])\n",
    "print(total_time_vector_tx)"
   ]
  },
  {
   "cell_type": "code",
   "execution_count": 14,
   "id": "7f129b00",
   "metadata": {},
   "outputs": [
    {
     "name": "stdout",
     "output_type": "stream",
     "text": [
      "Before sampling: [-1.  1. -1.  1. -1.  1. -1.  1.  1.]\n",
      "After sampling:  [-1. -1.  1.  1. -1. -1.  1.  1. -1. -1.  1.  1. -1. -1.  1.  1.  1.  1.]\n",
      "Length after sampling: 1309440\n",
      "\n",
      "Time vector: [0.00000000e+00 2.44379277e-07 4.88758553e-07 ... 3.19999267e-01\n",
      " 3.19999511e-01 3.19999756e-01]\n",
      "Time vector length: 1309440\n"
     ]
    }
   ],
   "source": [
    "#the function returns the sampled signal and also the corresponding time vector\n",
    "modulated_sampled, t_sampled = sampling(modulated, settings['fSampling'], 0.5*(1/settings['chipRate']), \n",
    "                                        total_time_vector_tx, 0, True)"
   ]
  },
  {
   "cell_type": "markdown",
   "id": "d408043d",
   "metadata": {},
   "source": [
    "## POWER OF THE SIGNAL"
   ]
  },
  {
   "cell_type": "markdown",
   "id": "0a72fb42",
   "metadata": {},
   "source": [
    "To simulate the effect of the high power amplifier we multiply our signal by the square root of the transmitted power."
   ]
  },
  {
   "cell_type": "code",
   "execution_count": 15,
   "id": "b6eb30b6",
   "metadata": {},
   "outputs": [
    {
     "name": "stdout",
     "output_type": "stream",
     "text": [
      "\n",
      "Signal ready for the transmission:  [-5.19615242 -5.19615242  5.19615242 ...  5.19615242 -5.19615242\n",
      " -5.19615242]\n"
     ]
    },
    {
     "data": {
      "image/png": "[encoded data removed]",
      "text/plain": [
       "<Figure size 1080x360 with 1 Axes>"
      ]
     },
     "metadata": {
      "needs_background": "light"
     },
     "output_type": "display_data"
    }
   ],
   "source": [
    "signal_to_tx = hpa(modulated_sampled, t_sampled, settings['transmittedPower'], 0, True)\n",
    "print(\"\\nSignal ready for the transmission: \", signal_to_tx)\n",
    "\n",
    "#from the plot it seems that the time vector is always the same even if we change the index of the packet. With a \n",
    "#different index passed to the sampling function, the time vector that is returned is different.\n",
    "#The multiplicative factor of the x axis (bottom right corner of the plot) changes by changing the index"
   ]
  },
  {
   "cell_type": "markdown",
   "id": "0d26dcf4",
   "metadata": {},
   "source": [
    "## PROPAGATION THROUGH THE CHANNEL AND RECEIVED POWER"
   ]
  },
  {
   "cell_type": "markdown",
   "id": "e362aca2",
   "metadata": {},
   "source": [
    "As explained in the report, the formula to compute the received power is the following:\n",
    "\n",
    "$P_r = P_t - P_L + G_t + G_r$  (dB)\n",
    "\n",
    "All the parameters are set in the settings file, while the free space path loss is provided by the orbit propagator group.\n",
    "\n",
    "We simulate the signal at the receiver by introducing a time delay due to the propagation through the channel, and we multiply the original modulated signal (the one we had at the transmitter before the amplification) by $\\sqrt{P_r}$. At this point we will compute the I/Q samples and we will add to them the noise, whose power $P_n$ is retrieved by inverting the SNR formula.\n",
    "\n",
    "Those samples are going to be quantized and written in a binary file.\n",
    "\n",
    "First we load the orbit propagator file:"
   ]
  },
  {
   "cell_type": "code",
   "execution_count": 16,
   "id": "e27ceb06",
   "metadata": {},
   "outputs": [
    {
     "data": {
      "text/html": [
       "<div>\n",
       "<style scoped>\n",
       "    .dataframe tbody tr th:only-of-type {\n",
       "        vertical-align: middle;\n",
       "    }\n",
       "\n",
       "    .dataframe tbody tr th {\n",
       "        vertical-align: top;\n",
       "    }\n",
       "\n",
       "    .dataframe thead th {\n",
       "        text-align: right;\n",
       "    }\n",
       "</style>\n",
       "<table border=\"1\" class=\"dataframe\">\n",
       "  <thead>\n",
       "    <tr style=\"text-align: right;\">\n",
       "      <th></th>\n",
       "      <th>Index</th>\n",
       "      <th>Date</th>\n",
       "      <th>Time</th>\n",
       "      <th>Siminstant[s]</th>\n",
       "      <th>Pseudorange[m]</th>\n",
       "      <th>FSPL</th>\n",
       "      <th>CodeDelay[chips]</th>\n",
       "      <th>DopplerShift[Hz]</th>\n",
       "      <th>FSPL[dB]</th>\n",
       "      <th>PropDelay[s]</th>\n",
       "    </tr>\n",
       "  </thead>\n",
       "  <tbody>\n",
       "    <tr>\n",
       "      <th>1</th>\n",
       "      <td>0</td>\n",
       "      <td>2022-06-01</td>\n",
       "      <td>09:10:37.830</td>\n",
       "      <td>4237.84</td>\n",
       "      <td>1.745497e+06</td>\n",
       "      <td>5.602320e+09</td>\n",
       "      <td>1864.260</td>\n",
       "      <td>3.45376</td>\n",
       "      <td>97.483679</td>\n",
       "      <td>0.005822</td>\n",
       "    </tr>\n",
       "    <tr>\n",
       "      <th>2</th>\n",
       "      <td>1</td>\n",
       "      <td>2022-06-01</td>\n",
       "      <td>09:10:37.840</td>\n",
       "      <td>4237.85</td>\n",
       "      <td>1.745486e+06</td>\n",
       "      <td>5.602250e+09</td>\n",
       "      <td>1864.230</td>\n",
       "      <td>3.45376</td>\n",
       "      <td>97.483625</td>\n",
       "      <td>0.005822</td>\n",
       "    </tr>\n",
       "    <tr>\n",
       "      <th>3</th>\n",
       "      <td>2</td>\n",
       "      <td>2022-06-01</td>\n",
       "      <td>09:10:37.850</td>\n",
       "      <td>4237.86</td>\n",
       "      <td>1.745476e+06</td>\n",
       "      <td>5.602190e+09</td>\n",
       "      <td>1864.190</td>\n",
       "      <td>3.45376</td>\n",
       "      <td>97.483578</td>\n",
       "      <td>0.005822</td>\n",
       "    </tr>\n",
       "    <tr>\n",
       "      <th>4</th>\n",
       "      <td>3</td>\n",
       "      <td>2022-06-01</td>\n",
       "      <td>09:10:37.860</td>\n",
       "      <td>4237.87</td>\n",
       "      <td>1.745466e+06</td>\n",
       "      <td>5.602120e+09</td>\n",
       "      <td>1864.160</td>\n",
       "      <td>3.45376</td>\n",
       "      <td>97.483524</td>\n",
       "      <td>0.005822</td>\n",
       "    </tr>\n",
       "    <tr>\n",
       "      <th>5</th>\n",
       "      <td>4</td>\n",
       "      <td>2022-06-01</td>\n",
       "      <td>09:10:37.870</td>\n",
       "      <td>4237.88</td>\n",
       "      <td>1.745456e+06</td>\n",
       "      <td>5.602060e+09</td>\n",
       "      <td>1864.130</td>\n",
       "      <td>3.45376</td>\n",
       "      <td>97.483478</td>\n",
       "      <td>0.005822</td>\n",
       "    </tr>\n",
       "    <tr>\n",
       "      <th>...</th>\n",
       "      <td>...</td>\n",
       "      <td>...</td>\n",
       "      <td>...</td>\n",
       "      <td>...</td>\n",
       "      <td>...</td>\n",
       "      <td>...</td>\n",
       "      <td>...</td>\n",
       "      <td>...</td>\n",
       "      <td>...</td>\n",
       "      <td>...</td>\n",
       "    </tr>\n",
       "    <tr>\n",
       "      <th>34337</th>\n",
       "      <td>34336</td>\n",
       "      <td>2022-06-01</td>\n",
       "      <td>09:16:21.190</td>\n",
       "      <td>4581.20</td>\n",
       "      <td>1.400148e+06</td>\n",
       "      <td>3.604770e+09</td>\n",
       "      <td>685.810</td>\n",
       "      <td>3.37927</td>\n",
       "      <td>95.568776</td>\n",
       "      <td>0.004670</td>\n",
       "    </tr>\n",
       "    <tr>\n",
       "      <th>34338</th>\n",
       "      <td>34337</td>\n",
       "      <td>2022-06-01</td>\n",
       "      <td>09:16:21.200</td>\n",
       "      <td>4581.21</td>\n",
       "      <td>1.400138e+06</td>\n",
       "      <td>3.604720e+09</td>\n",
       "      <td>685.776</td>\n",
       "      <td>3.37927</td>\n",
       "      <td>95.568715</td>\n",
       "      <td>0.004670</td>\n",
       "    </tr>\n",
       "    <tr>\n",
       "      <th>34339</th>\n",
       "      <td>34338</td>\n",
       "      <td>2022-06-01</td>\n",
       "      <td>09:16:21.210</td>\n",
       "      <td>4581.22</td>\n",
       "      <td>1.400128e+06</td>\n",
       "      <td>3.604670e+09</td>\n",
       "      <td>685.742</td>\n",
       "      <td>3.37926</td>\n",
       "      <td>95.568655</td>\n",
       "      <td>0.004670</td>\n",
       "    </tr>\n",
       "    <tr>\n",
       "      <th>34340</th>\n",
       "      <td>34339</td>\n",
       "      <td>2022-06-01</td>\n",
       "      <td>09:16:21.220</td>\n",
       "      <td>4581.23</td>\n",
       "      <td>1.400118e+06</td>\n",
       "      <td>3.604620e+09</td>\n",
       "      <td>685.708</td>\n",
       "      <td>3.37926</td>\n",
       "      <td>95.568595</td>\n",
       "      <td>0.004670</td>\n",
       "    </tr>\n",
       "    <tr>\n",
       "      <th>34341</th>\n",
       "      <td>34340</td>\n",
       "      <td>2022-06-01</td>\n",
       "      <td>09:16:21.230</td>\n",
       "      <td>4581.24</td>\n",
       "      <td>1.400108e+06</td>\n",
       "      <td>3.604570e+09</td>\n",
       "      <td>685.675</td>\n",
       "      <td>3.37925</td>\n",
       "      <td>95.568535</td>\n",
       "      <td>0.004670</td>\n",
       "    </tr>\n",
       "  </tbody>\n",
       "</table>\n",
       "<p>34341 rows × 10 columns</p>\n",
       "</div>"
      ],
      "text/plain": [
       "       Index        Date          Time  Siminstant[s]  Pseudorange[m]  \\\n",
       "1          0  2022-06-01  09:10:37.830        4237.84    1.745497e+06   \n",
       "2          1  2022-06-01  09:10:37.840        4237.85    1.745486e+06   \n",
       "3          2  2022-06-01  09:10:37.850        4237.86    1.745476e+06   \n",
       "4          3  2022-06-01  09:10:37.860        4237.87    1.745466e+06   \n",
       "5          4  2022-06-01  09:10:37.870        4237.88    1.745456e+06   \n",
       "...      ...         ...           ...            ...             ...   \n",
       "34337  34336  2022-06-01  09:16:21.190        4581.20    1.400148e+06   \n",
       "34338  34337  2022-06-01  09:16:21.200        4581.21    1.400138e+06   \n",
       "34339  34338  2022-06-01  09:16:21.210        4581.22    1.400128e+06   \n",
       "34340  34339  2022-06-01  09:16:21.220        4581.23    1.400118e+06   \n",
       "34341  34340  2022-06-01  09:16:21.230        4581.24    1.400108e+06   \n",
       "\n",
       "               FSPL  CodeDelay[chips]  DopplerShift[Hz]   FSPL[dB]  \\\n",
       "1      5.602320e+09          1864.260           3.45376  97.483679   \n",
       "2      5.602250e+09          1864.230           3.45376  97.483625   \n",
       "3      5.602190e+09          1864.190           3.45376  97.483578   \n",
       "4      5.602120e+09          1864.160           3.45376  97.483524   \n",
       "5      5.602060e+09          1864.130           3.45376  97.483478   \n",
       "...             ...               ...               ...        ...   \n",
       "34337  3.604770e+09           685.810           3.37927  95.568776   \n",
       "34338  3.604720e+09           685.776           3.37927  95.568715   \n",
       "34339  3.604670e+09           685.742           3.37926  95.568655   \n",
       "34340  3.604620e+09           685.708           3.37926  95.568595   \n",
       "34341  3.604570e+09           685.675           3.37925  95.568535   \n",
       "\n",
       "       PropDelay[s]  \n",
       "1          0.005822  \n",
       "2          0.005822  \n",
       "3          0.005822  \n",
       "4          0.005822  \n",
       "5          0.005822  \n",
       "...             ...  \n",
       "34337      0.004670  \n",
       "34338      0.004670  \n",
       "34339      0.004670  \n",
       "34340      0.004670  \n",
       "34341      0.004670  \n",
       "\n",
       "[34341 rows x 10 columns]"
      ]
     },
     "execution_count": 16,
     "metadata": {},
     "output_type": "execute_result"
    }
   ],
   "source": [
    "#here we load the file provided by the orbit propagator group\n",
    "filename = \"OrbitalDATA.txt\"\n",
    "orbit = pd.read_table(filename, header=0, sep=' ')\n",
    "orbit = orbit.dropna(axis=0)\n",
    "\n",
    "#we also want to consider the Free Space Path Loss in dB, so we add a column to the dataframe\n",
    "orbit['FSPL[dB]'] = orbit['FSPL'].apply(lin2dB)\n",
    "\n",
    "#in order to estimate also the propagation delay, we can just divide the pseudorange (satellite-user distance)\n",
    "#by the speed of light. Therefore we create another column in the dataframe\n",
    "c = 299792458   #speed of light in vacuum in m/s\n",
    "orbit['PropDelay[s]'] = orbit['Pseudorange[m]']/c\n",
    "\n",
    "#adding a column for the indexes\n",
    "orbit['Index'] = np.arange(0, orbit.shape[0], 1)\n",
    "column_list = [\"Index\",\"Date\", \"Time\", \"Siminstant[s]\", \"Pseudorange[m]\", \"FSPL\", \"CodeDelay[chips]\", \n",
    "               \"DopplerShift[Hz]\", \"FSPL[dB]\", \"PropDelay[s]\"]\n",
    "orbit = orbit.reindex(columns=column_list)\n",
    "\n",
    "orbit"
   ]
  },
  {
   "cell_type": "markdown",
   "id": "733dc145",
   "metadata": {},
   "source": [
    "The duration of the message associated to a packet is equal to $1309440 \\cdot T_s = 0.32$ seconds. In the orbit dataframe the sampling period to compute the values of the observables is 10 ms, therefore 0.32 seconds (320 ms) corresponds to the first 320/10 = 32 rows of the dataframe. \n",
    "In this short period of time the free space path loss and the propagation delay change in a trascurable way, as shown in the following cell."
   ]
  },
  {
   "cell_type": "code",
   "execution_count": 17,
   "id": "ba0a87ee",
   "metadata": {},
   "outputs": [
    {
     "name": "stdout",
     "output_type": "stream",
     "text": [
      "FSPL of the first row:  97.48367911746578\n",
      "FSPL of the 32th row:  97.48211292158848\n",
      "Difference:  0.0015661958773023343\n",
      "\n",
      "Pseudorange of the first row:  0.005822349681892264\n",
      "Pseudorange of the 32th row:  0.005821303087251114\n",
      "Difference:  1.046594641149895e-06\n"
     ]
    }
   ],
   "source": [
    "print(\"FSPL of the first row: \", orbit['FSPL[dB]'][1])\n",
    "print(\"FSPL of the 32th row: \", orbit['FSPL[dB]'][32])\n",
    "print(\"Difference: \", np.abs(orbit['FSPL[dB]'][1] - orbit['FSPL[dB]'][32]))\n",
    "\n",
    "print(\"\\nPseudorange of the first row: \", orbit['PropDelay[s]'][1])\n",
    "print(\"Pseudorange of the 32th row: \", orbit['PropDelay[s]'][32])\n",
    "print(\"Difference: \", np.abs(orbit['PropDelay[s]'][1] - orbit['PropDelay[s]'][32]))"
   ]
  },
  {
   "cell_type": "markdown",
   "id": "ec8ff6c1",
   "metadata": {},
   "source": [
    "Since the difference is negligible, in order to simplify the simulation we are going to consider a constant FSPL for the transmission of each packet. Another simplification that we consider is the following: since the packets are going to be transmitted one after the other, we can consider the propagation delay only once, and it will be the delay we observe when we start the transmission. We assume to start the transmission at the time that corresponds to the first line of the orbit dataframe.\n",
    "\n",
    "Moreover, since the Doppler frequencies and the FSPL provided in the file are updated every 10 ms, while our sampling period is equal to $T_s = \\frac{T_c}{4}$ seconds (that is way lower), we need to interpolate them.\n",
    "But while the FSPL is considered at the beginning of the transmission of each packet, the doppler frequencies are computed at the time corresponding to the transmission time plus the propagation delay, in order to obtain the dopplers at the receiver."
   ]
  },
  {
   "cell_type": "markdown",
   "id": "85bced90",
   "metadata": {},
   "source": [
    "## RECEIVED SIGNAL"
   ]
  },
  {
   "cell_type": "markdown",
   "id": "653ea963",
   "metadata": {},
   "source": [
    "The received signal will be characterized by a multiplicative factor given by $\\sqrt{P_r}$ and a time vector that has a length equal to 1309440 (with the original settings parameter), starts at the propagation delay $\\tau_p$ (since we assumed to start the transmission, that is our time 0, at the first line of the orbit dataframe) and has one sample every $T_s = \\frac{T_c}{4}$ seconds, such as the transmitted signal. Therefore, for the signal referred to the first packet:"
   ]
  },
  {
   "cell_type": "code",
   "execution_count": 18,
   "id": "2539045c",
   "metadata": {},
   "outputs": [
    {
     "name": "stdout",
     "output_type": "stream",
     "text": [
      "Propagation delay:  0.005822349681892264\n",
      "Amplitude after the channel:  0.012300773656756107\n",
      "\n",
      "Received signal:  [-0.01230077 -0.01230077  0.01230077 ...  0.01230077 -0.01230077\n",
      " -0.01230077]\n",
      "Corresponding time vector [0.00582235 0.00582259 0.00582284 ... 0.32582162 0.32582186 0.32582211]\n"
     ]
    },
    {
     "data": {
      "image/png": "[encoded data removed]",
      "text/plain": [
       "<Figure size 720x432 with 1 Axes>"
      ]
     },
     "metadata": {
      "needs_background": "light"
     },
     "output_type": "display_data"
    }
   ],
   "source": [
    "#to compute the amplitude of the received signal we need to do first the interpolation of FSLP\n",
    "#because the received power depends on the FSPL\n",
    " \n",
    "#This is the vector of the total FSPL we observe during the process (considering all the packets)\n",
    "total_FSPL = GetFSPL(orbit['FSPL[dB]'].to_numpy(), 0.01, 0, final_length*num_packets, 1/settings['fSampling'], True)\n",
    "\n",
    "#we also compute the total time vector (associated to all the packets) at the receiver (therefore it starts from\n",
    "#the propagation delay)\n",
    "prop_delay = orbit['PropDelay[s]'][1]\n",
    "print(\"Propagation delay: \", prop_delay)\n",
    "total_time_vector_rx = total_time_vector_tx + prop_delay\n",
    "\n",
    "#amplitude of the first packet (with index 0)\n",
    "amplitude = return_amplitude(total_FSPL, 0, settings['transmittedPower'], settings['transmitterGain'], \n",
    "                             settings['receiverGain'], final_length)\n",
    "print(\"Amplitude after the channel: \", amplitude)\n",
    "\n",
    "#received signal \n",
    "received_signal = amplitude*modulated_sampled\n",
    "print(\"\\nReceived signal: \", received_signal)\n",
    "\n",
    "#time vector associated to the received signal (of the first packet, therefore index = 0)\n",
    "time_vector = return_time_vector(total_time_vector_rx, 0, final_length)\n",
    "print(\"Corresponding time vector\", time_vector)"
   ]
  },
  {
   "cell_type": "markdown",
   "id": "e16897cb",
   "metadata": {},
   "source": [
    "## I/Q SAMPLES AT THE RECEIVER"
   ]
  },
  {
   "cell_type": "markdown",
   "id": "86ebcd69",
   "metadata": {},
   "source": [
    "The following step consists in generating the I/Q samples that, as explained in the report, are simply obtained by multiplying the received signal $s(t)$ by a cosine and a sine function:\n",
    "\n",
    "$x_I(t) = s(t)\\,\\cos\\,(2\\,\\pi\\,f'\\,t)$\n",
    "\n",
    "$x_Q(t) = s(t)\\,\\sin\\,(2\\,\\pi\\,f'\\,t)$\n",
    "\n",
    "where $f'$ is a vector that contains all the Doppler frequencies computed during the process. This is because the I/Q samples are supposed to be generated in baseband, therefore there is no carrier frequency to consider in this case. The interpolation of the Doppler frequencies (starting from the propagation delay) are obtained in the following cell, using the function \"GetDopplerShift\"."
   ]
  },
  {
   "cell_type": "code",
   "execution_count": 19,
   "id": "80534564",
   "metadata": {},
   "outputs": [
    {
     "name": "stdout",
     "output_type": "stream",
     "text": [
      "Dopplers of the first message:  [3.45667262 3.45667262 3.45667262 ... 3.45667256 3.45667256 3.45667256]\n"
     ]
    }
   ],
   "source": [
    "#as before we compute first the total doppler shifts vector, that are then going to be split for each packet.\n",
    "total_dopplers = GetDopplerShift(orbit['DopplerShift[Hz]'], 0.01, prop_delay, final_length*num_packets, \n",
    "                                 1/settings['fSampling'], False)\n",
    "\n",
    "#dopplers for the first packets (index = 0)\n",
    "dopplers = return_dopplers(total_dopplers, 0, final_length)\n",
    "print(\"Dopplers of the first message: \", dopplers)"
   ]
  },
  {
   "cell_type": "markdown",
   "id": "b9b60e51",
   "metadata": {},
   "source": [
    "Now we can compute the I/Q samples for the first message."
   ]
  },
  {
   "cell_type": "code",
   "execution_count": 20,
   "id": "fccd1509",
   "metadata": {},
   "outputs": [
    {
     "name": "stdout",
     "output_type": "stream",
     "text": [
      "I samples:  [-0.01220255 -0.01220255  0.01220254 ...  0.0086289  -0.00862886\n",
      " -0.00862881]\n",
      "\n",
      "Q samples:  [-0.00155135 -0.00155142  0.00155148 ...  0.00876647 -0.00876652\n",
      " -0.00876657]\n"
     ]
    },
    {
     "data": {
      "image/png": "[encoded data removed]",
      "text/plain": [
       "<Figure size 1080x360 with 1 Axes>"
      ]
     },
     "metadata": {
      "needs_background": "light"
     },
     "output_type": "display_data"
    },
    {
     "data": {
      "image/png": "[encoded data removed]",
      "text/plain": [
       "<Figure size 1080x360 with 1 Axes>"
      ]
     },
     "metadata": {
      "needs_background": "light"
     },
     "output_type": "display_data"
    }
   ],
   "source": [
    "I, Q = IQ_samples(received_signal, time_vector, dopplers, True)\n",
    "print(\"I samples: \", I)\n",
    "print(\"\\nQ samples: \", Q)"
   ]
  },
  {
   "cell_type": "markdown",
   "id": "abbb146a",
   "metadata": {},
   "source": [
    "Now we need to add the noise, whose power is computed by inverting the SNR formula."
   ]
  },
  {
   "cell_type": "code",
   "execution_count": 21,
   "id": "26c4903b",
   "metadata": {},
   "outputs": [
    {
     "name": "stdout",
     "output_type": "stream",
     "text": [
      "I samples after noise:  [-0.00938304 -0.01258814  0.01661187 ...  0.01167378 -0.00776617\n",
      " -0.00966479]\n",
      "\n",
      "Q samples without noise:  [-0.00155135 -0.00155142  0.00155148 ...  0.00876647 -0.00876652\n",
      " -0.00876657]\n",
      "\n",
      "Q samples after noise:  [ 2.93765983e-05 -3.75048690e-03  1.97199062e-03 ...  6.64699045e-03\n",
      " -8.46951172e-03 -1.07098276e-02]\n"
     ]
    }
   ],
   "source": [
    "received_power = amplitude**2\n",
    "noise_power_dB = lin2dB(received_power) - settings['SNR']     #in the settings file, the SNR is in dB\n",
    "\n",
    "I_noise = awgn(I, noise_power_dB, True)  \n",
    "print(\"I samples after noise: \", I_noise)\n",
    "\n",
    "Q_noise = awgn(Q, noise_power_dB, False)\n",
    "print(\"\\nQ samples without noise: \", Q_noise)\n",
    "\n",
    "#for the I samples the flag is True, so the noise is added and they differ from the I samples printed in the \n",
    "#previous cell\n",
    "\n",
    "#for the Q samples the flag is False and no noise is added, as specified in the instructions\n",
    "#They are the same Q samples of the previous cell\n",
    "\n",
    "#Now we add the noise also to the Q samples\n",
    "Q_noise = awgn(Q, noise_power_dB, True)\n",
    "print(\"\\nQ samples after noise: \", Q_noise)"
   ]
  },
  {
   "cell_type": "markdown",
   "id": "e0b427d2",
   "metadata": {},
   "source": [
    "The final step consists in quantizing those values and writing them in a binary file. \n",
    "The quantization was done by truncating the values (floating point of some length) into floating point of 16 bits. To achieve this, we use the float16 type given by the numpy module. This type is structured as: 1 sign bit, 5 bits exponent, 10 bits mantissa. Of course, the receiver must be aware of this choice."
   ]
  },
  {
   "cell_type": "code",
   "execution_count": 22,
   "id": "95b3ff9f",
   "metadata": {},
   "outputs": [
    {
     "name": "stdout",
     "output_type": "stream",
     "text": [
      "[-0.009384 -0.01259   0.01662  ...  0.01167  -0.007767 -0.00967 ]\n",
      "[ 2.939e-05 -3.750e-03  1.972e-03 ...  6.645e-03 -8.469e-03 -1.071e-02]\n"
     ]
    }
   ],
   "source": [
    "I_quantized = quantizationFloat(I_noise, settings['quantizationBits'])\n",
    "Q_quantized = quantizationFloat(Q_noise, settings['quantizationBits'])\n",
    "\n",
    "print(I_quantized)\n",
    "print(Q_quantized)"
   ]
  },
  {
   "cell_type": "markdown",
   "id": "fe147dd7",
   "metadata": {},
   "source": [
    "Finally, the samples are written in a binary file."
   ]
  },
  {
   "cell_type": "code",
   "execution_count": 23,
   "id": "e17b5a97",
   "metadata": {},
   "outputs": [],
   "source": [
    "filename = \"signal_binary_\" + str(0) + \".bin\"\n",
    "writeFileFloat(filename, I_quantized, Q_quantized)"
   ]
  },
  {
   "cell_type": "code",
   "execution_count": 24,
   "id": "2eaea8e7",
   "metadata": {},
   "outputs": [
    {
     "name": "stdout",
     "output_type": "stream",
     "text": [
      "First 5 quantized I samples: [-0.009384 -0.01259   0.01662   0.01089  -0.00994 ]\n",
      "First 5 I samples from file: [-0.009384 -0.01259   0.01662   0.01089  -0.00994 ]\n",
      "\n",
      "First 5 quantized Q samples: [ 2.939e-05 -3.750e-03  1.972e-03  3.130e-03 -4.601e-03]\n",
      "First 5 Q samples from file: [ 2.939e-05 -3.750e-03  1.972e-03  3.130e-03 -4.601e-03]\n"
     ]
    }
   ],
   "source": [
    "#to understand if the last step was correctly done we read again the samples from the binary files and we \n",
    "#compare them with the samples we obtained after the quantization\n",
    "\n",
    "I_quantized_read, Q_quantized_read = readQuantizedFloat(filename, settings['quantizationBits'], 10)\n",
    "print(\"First 5 quantized I samples:\", I_quantized[0:5])\n",
    "print(\"First 5 I samples from file:\", I_quantized_read)\n",
    "print(\"\\nFirst 5 quantized Q samples:\", Q_quantized[0:5])\n",
    "print(\"First 5 Q samples from file:\", Q_quantized_read)"
   ]
  },
  {
   "cell_type": "markdown",
   "id": "2fcba998",
   "metadata": {},
   "source": [
    "## ALL THE OTHER PACKETS"
   ]
  },
  {
   "cell_type": "code",
   "execution_count": 25,
   "id": "f06313b8",
   "metadata": {
    "scrolled": false
   },
   "outputs": [
    {
     "name": "stdout",
     "output_type": "stream",
     "text": [
      "Packet of index 1 :\n",
      " [0 1 0 1 1 0 0 0 0 0 0 0 0 0 0 1 0 0 0 1 1 1 1 1 1 1 1 1 1 1 1 1 1 1 1 0 0\n",
      " 0 0 0 0 0 0 0 0 0 0 0 0 0 1 0 1 0 1 1 1 1 1 1 0 0 0 0 0 1 0 1 0 1 0 0 0 1\n",
      " 0 0 0 0 0 0] \n",
      "\n",
      "Time vector of the signal corresponding to packet 1 at rx:\n",
      " [0.32582235 0.32582259 0.32582284 ... 0.64582162 0.64582186 0.64582211]\n",
      "\n",
      "Noise power of the signal corresponding to packet 1 at rx:\n",
      " 4.78677742045902e-06\n",
      "\n",
      "I samples after noise of packet of index 1 :\n",
      " [-0.01260172 -0.00455429  0.00584905 ... -0.00013307 -0.00373421\n",
      " -0.00087287] \n",
      "\n",
      "Q samples after noise of packet of index 1 :\n",
      " [-0.00810716 -0.00840428  0.01035407 ...  0.01168359 -0.0139391\n",
      " -0.01358491] \n",
      "\n",
      "-----------------------------------------------------------------------------------------\n",
      "\n",
      "Packet of index 2 :\n",
      " [0 1 0 1 1 0 0 0 0 0 0 0 0 0 0 1 0 0 1 0 1 1 1 1 1 1 1 1 1 1 1 1 1 1 1 0 0\n",
      " 0 0 0 0 0 0 0 0 0 0 0 0 0 0 1 0 1 0 1 1 1 0 1 1 0 0 1 1 1 1 0 1 1 1 1 0 1\n",
      " 0 0 0 0 0 0] \n",
      "\n",
      "Time vector of the signal corresponding to packet 2 at rx:\n",
      " [0.64582235 0.64582259 0.64582284 ... 0.96582162 0.96582186 0.96582211]\n",
      "\n",
      "Noise power of the signal corresponding to packet 2 at rx:\n",
      " 4.78874391416144e-06\n",
      "\n",
      "I samples after noise of packet of index 2 :\n",
      " [-0.00163859 -0.00149733  0.00079938 ... -0.00663091  0.00902497\n",
      "  0.00344995] \n",
      "\n",
      "Q samples after noise of packet of index 2 :\n",
      " [-0.01278612 -0.01142895  0.0092464  ...  0.0125692  -0.00920063\n",
      " -0.01186688] \n",
      "\n",
      "-----------------------------------------------------------------------------------------\n",
      "\n",
      "Packet of index 3 :\n",
      " [0 1 0 1 1 0 0 0 0 0 0 0 0 0 0 1 0 0 1 1 0 0 0 0 0 0 0 0 0 0 0 0 0 0 0 1 1\n",
      " 1 1 1 1 1 1 1 1 1 1 1 1 1 0 0 0 1 1 1 0 1 1 0 0 1 1 0 1 1 1 0 0 1 0 1 0 1\n",
      " 0 0 0 0 0 0] \n",
      "\n",
      "Time vector of the signal corresponding to packet 3 at rx:\n",
      " [0.96582235 0.96582259 0.96582284 ... 1.28582162 1.28582186 1.28582211]\n",
      "\n",
      "Noise power of the signal corresponding to packet 3 at rx:\n",
      " 4.7907112157346235e-06\n",
      "\n",
      "I samples after noise of packet of index 3 :\n",
      " [ 0.00585498  0.0083044  -0.00405841 ... -0.00984638  0.00976569\n",
      "  0.01415134] \n",
      "\n",
      "Q samples after noise of packet of index 3 :\n",
      " [-0.01239556 -0.01032303  0.01022425 ...  0.00430641 -0.00160992\n",
      " -0.00416052] \n",
      "\n",
      "-----------------------------------------------------------------------------------------\n",
      "\n",
      "Packet of index 4 :\n",
      " [0 1 0 1 1 0 0 0 0 0 0 0 0 0 0 1 0 1 0 0 1 1 1 1 1 1 1 1 1 1 1 1 1 1 1 0 0\n",
      " 0 0 0 0 0 0 0 0 0 0 0 0 0 0 0 1 1 1 0 0 0 1 1 0 1 1 0 1 1 0 0 0 0 0 1 1 1\n",
      " 0 0 0 0 0 0] \n",
      "\n",
      "Time vector of the signal corresponding to packet 4 at rx:\n",
      " [1.28582235 1.28582259 1.28582284 ... 1.60582162 1.60582186 1.60582211]\n",
      "\n",
      "Noise power of the signal corresponding to packet 4 at rx:\n",
      " 4.7926793255104375e-06\n",
      "\n",
      "I samples after noise of packet of index 4 :\n",
      " [ 0.01200338  0.0112339  -0.01828526 ... -0.00945501  0.01240372\n",
      "  0.01172093] \n",
      "\n",
      "Q samples after noise of packet of index 4 :\n",
      " [-0.00672844 -0.00315522  0.00321529 ... -0.00196935  0.00577333\n",
      "  0.00325421] \n",
      "\n",
      "-----------------------------------------------------------------------------------------\n",
      "\n"
     ]
    }
   ],
   "source": [
    "#Note: in the following for cycle, we don't print the messages/signals after the various transformations\n",
    "#This is because the first part and the last part of the messages are always equal, since the first and last\n",
    "#part of the message is equal (synchro pattern and tail), since the PRN is always the same and since the \n",
    "#subcarrier for the boc modulation is always the same.\n",
    "#On the other hand, it would be pointless to print some samples of the signals in the middle region, because\n",
    "#from that it's very hard to get any information.\n",
    "#Therefore printing some values of the signals would just mess up the code and the for cycle itself.\n",
    "\n",
    "#we use a for loop over all the rows of the matrix, skipping the first row (first packet)\n",
    "for i in range(1, packets_matrix.shape[0]):\n",
    "    \n",
    "    message = packets_matrix[i]\n",
    "    print(\"Packet of index\", i, \":\\n\", message, \"\\n\")\n",
    "    \n",
    "    #first step: modulation\n",
    "    modulated = boc(message, subcarrier, settings[\"bitRate\"], settings[\"chipRate\"], \n",
    "                    np.array(e1bmodifiedcopy['Modified']), settings['SV_PRN_ID'], settings['nPRN_x_Symbol'], False)\n",
    "    \n",
    "    #second step: sampling\n",
    "    modulated_sampled, t_sampled = sampling(modulated, settings['fSampling'], 0.5*(1/settings['chipRate']), \n",
    "                                        total_time_vector_tx, i, False)\n",
    "\n",
    "    #third step: high power amplifier\n",
    "    signal_to_transmit = hpa(modulated_sampled, t_sampled, settings['transmittedPower'], 1, False)\n",
    "    \n",
    "    #fourth step: simulating the signal at the receiver\n",
    "    amplitude = return_amplitude(total_FSPL, i, settings['transmittedPower'], settings['transmitterGain'], \n",
    "                                 settings['receiverGain'], final_length)\n",
    "    received_signal = amplitude*modulated_sampled\n",
    "    time_vector = return_time_vector(total_time_vector_rx, i, final_length)\n",
    "    print(\"Time vector of the signal corresponding to packet\", i, \"at rx:\\n\", time_vector)\n",
    "    \n",
    "    #fifth step: I/Q samples\n",
    "    dopplers = return_dopplers(total_dopplers, i, final_length)\n",
    "    I, Q = IQ_samples(received_signal, time_vector, dopplers, False)\n",
    "    \n",
    "    #sixth step: noise\n",
    "    received_power = amplitude**2\n",
    "    noise_power_dB = lin2dB(received_power) - settings['SNR']  \n",
    "    print(\"\\nNoise power of the signal corresponding to packet\", i, \"at rx:\\n\", dB2lin(noise_power_dB))\n",
    "\n",
    "    I_noise = awgn(I, noise_power_dB, True)\n",
    "    Q_noise = awgn(Q, noise_power_dB, True)\n",
    "    print(\"\\nI samples after noise of packet of index\", i, \":\\n\", I_noise, \"\\n\")\n",
    "    print(\"Q samples after noise of packet of index\", i, \":\\n\", Q_noise, \"\\n\")\n",
    "    \n",
    "    #seventh step: quantization\n",
    "    I_quantized = quantizationFloat(I_noise, settings['quantizationBits'])\n",
    "    Q_quantized = quantizationFloat(Q_noise, settings['quantizationBits'])\n",
    "    \n",
    "    #last step: binary file\n",
    "    filename = \"signal_binary_\" + str(i) + \".bin\"\n",
    "    writeFileFloat(filename, I_quantized, Q_quantized)\n",
    "    print('-----------------------------------------------------------------------------------------\\n')\n"
   ]
  },
  {
   "cell_type": "code",
   "execution_count": null,
   "id": "e263176c",
   "metadata": {},
   "outputs": [],
   "source": []
  }
 ],
 "metadata": {
  "kernelspec": {
   "display_name": "Python 3",
   "language": "python",
   "name": "python3"
  },
  "language_info": {
   "codemirror_mode": {
    "name": "ipython",
    "version": 3
   },
   "file_extension": ".py",
   "mimetype": "text/x-python",
   "name": "python",
   "nbconvert_exporter": "python",
   "pygments_lexer": "ipython3",
   "version": "3.8.8"
  }
 },
 "nbformat": 4,
 "nbformat_minor": 5
}
