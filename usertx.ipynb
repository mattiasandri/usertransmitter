{
 "cells": [
  {
   "cell_type": "code",
   "execution_count": null,
   "id": "18f20908",
   "metadata": {},
   "outputs": [],
   "source": [
    "from functions import *\n",
    "\n",
    "from math import pi\n",
    "import warnings\n",
    "warnings.filterwarnings('ignore')"
   ]
  },
  {
   "cell_type": "markdown",
   "id": "fe28ae88",
   "metadata": {},
   "source": [
    "# USER TRANSMITTER "
   ]
  },
  {
   "cell_type": "markdown",
   "id": "5cb4e5a4",
   "metadata": {},
   "source": [
    "The first thing that we need to do is to load the file with the settings. These are all the parameters that we are going to use for the development of the project."
   ]
  },
  {
   "cell_type": "code",
   "execution_count": null,
   "id": "693c9e79",
   "metadata": {},
   "outputs": [],
   "source": [
    "f = open('settings.ini')\n",
    "settings = json.load(f)\n",
    " \n",
    "for i in settings:\n",
    "    print(i, end=': ')\n",
    "    print(settings[i])\n",
    "    \n",
    "f.close()\n",
    "\n",
    "#the transmitted power is in W, while the transmitter and receiver gains are in dB"
   ]
  },
  {
   "cell_type": "code",
   "execution_count": null,
   "id": "0e0745ce",
   "metadata": {},
   "outputs": [],
   "source": [
    "#reading the file with the packets to transmit: if GOOD = 1, it's an ACK, if GOOD = 0 it's a NACK\n",
    "\n",
    "acks = pd.read_csv(\"N_ACK.csv\")\n",
    "num_packets = acks.shape[0]\n",
    "print(num_packets)\n",
    "acks"
   ]
  },
  {
   "cell_type": "code",
   "execution_count": null,
   "id": "3d29fcf1",
   "metadata": {},
   "outputs": [],
   "source": [
    "f = open('N_ACK.csv')\n",
    "csv_file = csv.reader(f)\n",
    "N_ACK = []\n",
    "for row in csv_file:\n",
    "        N_ACK.append(row)\n",
    "        \n",
    "print(N_ACK)\n",
    "\n",
    "for i in range(len(N_ACK)-1):\n",
    "    if(N_ACK[i+1][1]=='1'):\n",
    "        msg=createMessageACK(settings['SYNCpattern'],settings['SV_PRN_ID'],int(N_ACK[i+1][0]))\n",
    "    if(N_ACK[i+1][1]=='0'):\n",
    "        msg=createMessageNACK(settings['SYNCpattern'],settings['SV_PRN_ID'],int(N_ACK[i+1][0]))\n",
    "    print(msg)"
   ]
  },
  {
   "cell_type": "markdown",
   "id": "13fa49e1",
   "metadata": {},
   "source": [
    "### Loading the Galileo E1 PRNs\n",
    "In order to generate the signal, we need first of all to load the pseudo random noise sequences.\n",
    "\n",
    "There exist two different kinds of PRN codes for Galileo E1: E1B and E1C.\n",
    "They are contained, in hexadecimal format, in the files called repectively \"E1B - Gal.txt\" and \"E1C - Gal.txt\"\n",
    "\n",
    "For this simulation, we only consider the E1B PRNs:"
   ]
  },
  {
   "cell_type": "code",
   "execution_count": null,
   "id": "edd11a13",
   "metadata": {},
   "outputs": [],
   "source": [
    "filename = \"E1B - Gal.txt\"\n",
    "\n",
    "# defining the name of the column of the dataframe called e1b\n",
    "columns = [\"Hexadecimal\"]\n",
    "\n",
    "#reading the file\n",
    "e1b = pd.read_table(filename, sep='\\n', header=None, names=columns)\n",
    "\n",
    "# deleting the first 15 characters (not part of the code)\n",
    "e1b['Hexadecimal'] = [el[16::] for el in e1b['Hexadecimal']]\n",
    "\n",
    "# creating a new column with the codes indexes and placing it as first column\n",
    "e1b['Code index'] = np.arange(1,51,1)\n",
    "column_list = [\"Code index\", \"Hexadecimal\"]\n",
    "e1b = e1b.reindex(columns=column_list)\n",
    "\n",
    "# printing the first lines of the dataframe\n",
    "e1b.head()"
   ]
  },
  {
   "cell_type": "code",
   "execution_count": null,
   "id": "ce92d45c",
   "metadata": {},
   "outputs": [],
   "source": [
    "# last code (just to verify if the loading operation is correct)\n",
    "print(e1b['Hexadecimal'][49])"
   ]
  },
  {
   "cell_type": "code",
   "execution_count": null,
   "id": "5767610b",
   "metadata": {
    "scrolled": false
   },
   "outputs": [],
   "source": [
    "# creation of a new column of the dataframe with the binary representation of each PRN\n",
    "e1b['Binary'] = e1b['Hexadecimal'].apply(hex2bin)\n",
    "\n",
    "#creation of a copy of the dataframe to use without modifying the original dataframe\n",
    "e1bcopy = e1b.copy()\n",
    "e1b"
   ]
  },
  {
   "cell_type": "code",
   "execution_count": null,
   "id": "0a5b9226",
   "metadata": {
    "scrolled": true
   },
   "outputs": [],
   "source": [
    "print(e1b['Binary'][49])    # to verify if the conversion was successful, we print the last code in binary:\n",
    "\n",
    "# since the last code starts with 9 7 ... in hexadecimal, the binary representation should start with \n",
    "# 1001 0111 ...\n",
    "# and since it ends with ... 2 0, the binary representation should end with\n",
    "# ... 0010 0000"
   ]
  },
  {
   "cell_type": "markdown",
   "id": "c05d9fa8",
   "metadata": {},
   "source": [
    "## MODULATION"
   ]
  },
  {
   "cell_type": "markdown",
   "id": "11b885cb",
   "metadata": {},
   "source": [
    "The signal sent by Galileo is supposed to be modulated with a Binary Offset Carrier modulation. In particular, the one that is used for Galileo E1 signal is the BOC(1,1) modulation, that utilizes a Non-return to zero square subcarrier with a period Tp equal to the chip rate Tc.\n",
    "\n",
    "In order to generate the BOC(1,1) signal we need to modify the codes. Indeed, the sequence to modulate with the BOC(1,1) square subcarrier is obtained by applying a XOR between the data message and the PRN. Alternatively, obtaining the same result, it is possible to convert the binary sequences (both the data message and the PRNs) by considering a -1 instead of a 1 and by considering a 1 instead of a 0.\n",
    "\n",
    "So the sequence 0 1 1 1 0 becomes 1 -1 -1 -1 1 (this is valid for both the data message and the PRN). Then instead of applying a XOR we can simply multiply the data message and the PRN, the final result is the same.\n",
    "\n",
    "Indeed, by converting 0 in 1 and 1 in -1 we get:\n",
    "\n",
    "|  | BIT 1 | BIT 2 | XOR | CONVERSION |\n",
    "| :-: | :-: | :-: | :-: | :-: |\n",
    "| 1) | 0 | 0 | 0 | 1 |\n",
    "| 2) | 0 | 1 | 1 | -1 |\n",
    "| 3) | 1 | 0 | 1 | -1 |\n",
    "| 4) | 1 | 1 | 0 | 1 |\n",
    "\n",
    "that is the same we get with the product after the conversion:\n",
    "\n",
    "| | BIT 1 | BIT 2 | PRODUCT \n",
    "| :-: | :-: | :-: | :-: |\n",
    "| 1) | 1 | 1 | 1 |\n",
    "| 2) | 1 | -1 | -1 |\n",
    "| 3) | -1 | 1 | -1 |\n",
    "| 4) | -1 | -1 | 1 |\n",
    "\n",
    "Therefore now we create another dataframe where we store the modified PRNs."
   ]
  },
  {
   "cell_type": "code",
   "execution_count": null,
   "id": "15e679e7",
   "metadata": {},
   "outputs": [],
   "source": [
    "e1bmodified = e1b.copy()\n",
    "e1bmodified['Modified'] = e1bmodified['Binary'].apply(conversion)\n",
    "\n",
    "e1bmodifiedcopy = e1bmodified.copy()\n",
    "e1bmodified"
   ]
  },
  {
   "cell_type": "markdown",
   "id": "c3427898",
   "metadata": {},
   "source": [
    "## Visualization of PRNs in time domain"
   ]
  },
  {
   "cell_type": "markdown",
   "id": "df2579d8",
   "metadata": {},
   "source": [
    "Now that the PRNs have been loaded, it is possible to visualize the first samples of them. This is done by using two functions defined below."
   ]
  },
  {
   "cell_type": "code",
   "execution_count": null,
   "id": "9a596521",
   "metadata": {},
   "outputs": [],
   "source": [
    "plot_prn_zeros(20, e1bcopy['Binary'][0], settings['chipRate'])"
   ]
  },
  {
   "cell_type": "code",
   "execution_count": null,
   "id": "72e5b708",
   "metadata": {},
   "outputs": [],
   "source": [
    "plot_prn_modified(20, e1bmodifiedcopy['Modified'][0], settings['chipRate'])"
   ]
  },
  {
   "cell_type": "markdown",
   "id": "e4994abf",
   "metadata": {},
   "source": [
    "## BOC(1,1) MODULATION"
   ]
  },
  {
   "cell_type": "markdown",
   "id": "fcd6ee82",
   "metadata": {},
   "source": [
    "The BOC(1,1) modulation is obtained by multiplying 4 components:\n",
    "- the data message we need to transmit (given by a sequence of symbols with symbol period Tb);\n",
    "- the PRN sequence we use to spread the data message (given by a sequence of chips with chip period Tc);\n",
    "- a square wave subcarrier with period Tp = Tc (due to n = m = 1)\n",
    "- a sinusoidal carrier \n",
    "\n",
    "Since for this project the I/Q samples must be generated in baseband, the multiplication by the sinusoidal carrier is not needed."
   ]
  },
  {
   "cell_type": "code",
   "execution_count": null,
   "id": "cdd2bee6",
   "metadata": {},
   "outputs": [],
   "source": [
    "# HERE WE NEED TO INSERT OUR REAL MESSAGE TO TRANSMIT"
   ]
  },
  {
   "cell_type": "code",
   "execution_count": null,
   "id": "2ae1f799",
   "metadata": {},
   "outputs": [],
   "source": [
    "#first we generate a random binary message of 80 bits (so it contains only zeros and ones)\n",
    "message_len = 80\n",
    "message = np.random.randint(0,2,message_len)\n",
    "        \n",
    "print(\"Data message:\\n\", message)"
   ]
  },
  {
   "cell_type": "code",
   "execution_count": null,
   "id": "d9b991a3",
   "metadata": {},
   "outputs": [],
   "source": [
    "#Now we generate the BOC subcarrier, that is a square NRZ wave. The period of the waveform is given by Tc\n",
    "#The needed length of the subcarrier is 654720. This will be clarified later, but basically the spreaded sequence\n",
    "#is composed of 327360 symbols (data message is 80 symbols, and each symbol is spreaded with a PRN, that has 4092\n",
    "#chips, so 80*4092 = 327360) and each symbol of the spreaded sequence is kept constant for 2 samples of the \n",
    "#subcarrier, therefore 327360*2 = 654720.\n",
    "\n",
    "Rc = 1.023e06   # chip rate\n",
    "Tc = 1 / Rc     # chip period \n",
    "\n",
    "rep = 2 \n",
    "s = np.array([1, -1])\n",
    "subcarrier = np.tile(s, 327360) # we repeat the values 1 and -1 for 327360 times in order to have an array of 654720 elements\n",
    "                             \n",
    "\n",
    "#now we plot the first 20 samples of the subcarrier\n",
    "xticks = np.arange(0,10*Tc, Tc)\n",
    "yticks = [-1, 0, 1]\n",
    "\n",
    "t = np.arange(0, 10*Tc, Tc/2)\n",
    "fig = plt.figure(figsize=(15,5))\n",
    "ax = fig.add_subplot(1,1,1)\n",
    "ax.step(t, subcarrier[0:20], where='post', lw=3)\n",
    "ax.set_xticks(xticks)\n",
    "ax.set_yticks(yticks)\n",
    "ax.set_title('NRZ square subcarrier for BOC(1,1)', fontsize=15)\n",
    "ax.set_xlabel('Time [s]', fontsize=15)\n",
    "ax.set_ylabel('Subcarrier values', fontsize=15)\n",
    "ax.grid()\n",
    "\n",
    "print(\"Subcarrier length:\", len(subcarrier))  \n",
    "print(subcarrier)"
   ]
  },
  {
   "cell_type": "code",
   "execution_count": null,
   "id": "482061e0",
   "metadata": {},
   "outputs": [],
   "source": [
    "#now we have the data message, the subcarrier and the prn can be retrieved from the dataframe\n",
    "#we can create a function that does the modulation and (if flag = True) plots the signals\n",
    "\n",
    "modulated = boc(message, subcarrier, settings[\"bitRate\"], settings[\"chipRate\"], settings['SV_PRN_ID'], np.array(e1bmodifiedcopy['Modified']), True)\n",
    "print(\"\\nModulated message:\\n\", modulated)"
   ]
  },
  {
   "cell_type": "markdown",
   "id": "58edfe6c",
   "metadata": {},
   "source": [
    "# SAMPLING OF THE SIGNAL"
   ]
  },
  {
   "cell_type": "markdown",
   "id": "b109bc49",
   "metadata": {},
   "source": [
    "Before transmitting the signal we can sample it, since this will be useful also at the receiver side, where we will compute the I/Q samples of the received signal.\n",
    "The sampling frequencies used in these cases are in the order of 4 or 5 MHz. A good choice might be to consider a sampling frequency $F_s = 4.092$ MHz (with a sampling period $T_s = \\frac{1}{F_s} = 2.4438\\,\\cdot10^{-7} = \\frac{T_c}{4}$ seconds).\n",
    "\n",
    "This is a good choice because the modulated signal is composed of values spaced apart by $\\frac{T_c}{2}$ seconds. By considering a sampling period of $\\frac{T_c}{4}$ seconds we can sample the signal simply by considering two equal samples for each symbol in the signal $s(t)$.\n",
    "\n",
    "Therefore, if for example we start from $s(t) = [-1, 1, -1 ...]$, after the process we are going to obtain $s(t) = [-1, -1, 1, 1, -1, -1 ...]$. Since, after the modulation, the length of the signal was 654720, after this process the length will be $654720\\cdot2 = 1309440$ values.\n",
    "Alternatively, we can also consider a sampling frequency $F_s = 8.184$ MHz (that refers to a sampling period $T_s = \\frac{T_c}{8}$). In principle we can consider also bigger sampling frequencies, but energy and power consumption considerations must be also taken into account. Therefore we are going to use a sampling frequency $F_s = 4.092$ MHz (that correspond to $T_s = 2.4438\\cdot10^{-7}$ seconds).\n"
   ]
  },
  {
   "cell_type": "code",
   "execution_count": null,
   "id": "e04ea82d",
   "metadata": {},
   "outputs": [],
   "source": [
    "#now we do the sampling of our signal\n",
    "modulated_sampled, t_sampled = sampling(modulated, settings['fSampling'])"
   ]
  },
  {
   "cell_type": "markdown",
   "id": "4703319e",
   "metadata": {},
   "source": [
    "## POWER OF THE SIGNAL "
   ]
  },
  {
   "cell_type": "markdown",
   "id": "fccf58e4",
   "metadata": {},
   "source": [
    "In satellite communications, the modulated signal has a power that is too low to reach the receiver. For this reason, at the ground station, a high power amplifier is utilized. It is a device that takes as input a signal, and produces a signal with a bigger amplitude, in order to increase its power.\n",
    "Therefore, to simulate its action, we just need to amplify our sampled signal, that at the moment varies between 1 and -1.\n",
    "\n",
    "If we want to obtain a transmitting power $P_t$, it's sufficient to set the amplitude of the signal as $\\sqrt{P_t}$. This is because the power can be computed as:\n",
    "$P_t = \\dfrac{1}{N} \\sum_{n=0}^{N-1}\\,s^2\\,[n]$, where $s$ is the signal we are considering."
   ]
  },
  {
   "cell_type": "code",
   "execution_count": null,
   "id": "5cfca320",
   "metadata": {},
   "outputs": [],
   "source": [
    "#COMPUTATION OF THE POWER OF THE SIGNAL\n",
    "#At the moment the power of the signal is unitary, because each sample is either 1 or -1\n",
    "#Therefore when we take the square of a sample we get 1, and if we sum them we get the length of the signal\n",
    "\n",
    "signal_to_tx = hpa(modulated_sampled, t_sampled, settings['transmittedPower'])"
   ]
  },
  {
   "cell_type": "markdown",
   "id": "2fabaa81",
   "metadata": {},
   "source": [
    "## PROPAGATION THROUGH THE CHANNEL AND RECEIVED POWER"
   ]
  },
  {
   "cell_type": "markdown",
   "id": "e12f17ef",
   "metadata": {},
   "source": [
    "In order to simulate the propagation through the channel we need to consider the fact that the transmitted signal, with a transmitted power $P_t$, will be highly attenuated. The formula to compute the received power is the following:\n",
    "\n",
    "$P_r = P_t - P_L + G_t + G_r$  (dB)\n",
    "\n",
    "where $P_t$ is the transmitted power, $P_L$ is the path loss, $G_t$ is the gain of the transmitting antenna and $G_r$ is the gain of the received antenna. The path loss is provided by the orbital propagator group (as well as the other observables). \n",
    "We suppose we have a certain antenna, that can trasmit a signal whose power is set in the settings.ini file. From this value, with the formula described above, we can compute the received power. The target SNR to achieve at the receiver is also parameter of the settings.ini file, as well as the antenna gains. \n",
    "\n",
    "We simulate the signal at the receiver by introducing a time delay due to the propagation through the channel, and we multiply the original modulated signal (the one we had at the transmitter before the amplification) by $\\sqrt{P_r}$, in order to simulate the amplitude variation caused by the attenuation. At this point we will compute the I/Q samples and we will add to them the noise, whose power $P_n$ is retrieved by inverting the SNR formula, since \n",
    "\n",
    "$P_n = \\dfrac{P_r}{SNR}$\n",
    "\n",
    "Those samples are going to be quantized and written in a binary file."
   ]
  },
  {
   "cell_type": "markdown",
   "id": "fbf9cd3d",
   "metadata": {},
   "source": [
    "To take into account the doppler frequencies, the propagation delay and the FSPL we need to load the file provided by the orbit propagator group."
   ]
  },
  {
   "cell_type": "code",
   "execution_count": null,
   "id": "8e8cb0c7",
   "metadata": {
    "scrolled": false
   },
   "outputs": [],
   "source": [
    "#here we load the file provided by the orbit propagator group\n",
    "filename = \"OrbitalDATA.txt\"\n",
    "orbit = pd.read_table(filename, header=0, sep=' ')\n",
    "orbit = orbit.dropna(axis=0)\n",
    "\n",
    "#we also want to consider the Free Space Path Loss in dB, so we add a column to the dataframe\n",
    "orbit['FSPL[dB]'] = orbit['FSPL'].apply(lin2dB)\n",
    "\n",
    "#in order to estimate also the propagation delay, we can just divide the pseudorange (satellite-user distance)\n",
    "#by the speed of light. Therefore we create another column in the dataframe\n",
    "c = 299792458   #speed of light in vacuum in m/s\n",
    "orbit['PropDelay[s]'] = orbit['Pseudorange[m]']/c\n",
    "\n",
    "#adding a column for the indexes\n",
    "orbit['Index'] = np.arange(0, orbit.shape[0], 1)\n",
    "column_list = [\"Index\",\"Date\", \"Time\", \"Siminstant[s]\", \"Pseudorange[m]\", \"FSPL\", \"CodeDelay[chips]\", \n",
    "               \"DopplerShift[Hz]\", \"FSPL[dB]\", \"PropDelay[s]\"]\n",
    "orbit = orbit.reindex(columns=column_list)\n",
    "\n",
    "orbit"
   ]
  },
  {
   "cell_type": "code",
   "execution_count": null,
   "id": "15f5f3ad",
   "metadata": {},
   "outputs": [],
   "source": [
    "prop_delay = orbit['PropDelay[s]'][1]\n",
    "\n",
    "dopplerFreqSamples = orbit['DopplerShift[Hz]'].dropna().to_numpy()\n",
    "originalSamplingPeriod = 0.01\n",
    "interpSamplingPeriod = 1 / settings['fSampling']\n",
    "StartTime = 10\n",
    "numInterpSamples=1309440 # with this value it might take 10/30 seconds\n",
    "\n",
    "interpDopplerShift = GetDopplerShift(dopplerFreqSamples, originalSamplingPeriod, StartTime, numInterpSamples, interpSamplingPeriod)\n",
    "interpDopplerShift2 = GetDopplerShift(dopplerFreqSamples, originalSamplingPeriod, prop_delay, numInterpSamples, interpSamplingPeriod)\n",
    "\n",
    "print(interpDopplerShift)\n",
    "print(interpDopplerShift2)\n",
    "\n",
    "print(len(interpDopplerShift))  #length is okay\n",
    "print(len(interpDopplerShift2))  #length is okay"
   ]
  },
  {
   "cell_type": "code",
   "execution_count": null,
   "id": "2b3f9d28",
   "metadata": {},
   "outputs": [],
   "source": [
    "interpSamplingPeriod = 1 / settings['fSampling']\n",
    "ciao = (np.asarray(range(0,numInterpSamples)))*interpSamplingPeriod\n",
    "print(ciao)\n",
    "\n",
    "InterpSampleTime = np.asarray([i+1 for i in ciao]) #shifts it \n",
    "print(InterpSampleTime)"
   ]
  },
  {
   "cell_type": "markdown",
   "id": "d9dee783",
   "metadata": {},
   "source": [
    "As already said many times, the signal associated to a packet is composed of 1309440 samples, and each sample has a duration of $T_s = \\frac{T_c}{4} = 2.4438 \\cdot 10^{-7}$ seconds. Therefore the duration of the message associated to a packet is equal to $1309440 \\cdot T_s = 0.32$ seconds. In the orbit dataframe the sampling period to compute the values of the observables is 10 ms, therefore 0.32 seconds (320 ms) corresponds to the first 320/10 = 32 rows of the dataframe. \n",
    "In this short period of time the free space path loss and the propagation delay change in a trascurable way, as shown in the following cell."
   ]
  },
  {
   "cell_type": "code",
   "execution_count": null,
   "id": "fa59eb23",
   "metadata": {},
   "outputs": [],
   "source": [
    "print(\"FSPL of the first row: \", orbit['FSPL[dB]'][1])\n",
    "print(\"FSPL of the 32th row: \", orbit['FSPL[dB]'][32])\n",
    "print(\"Difference: \", np.abs(orbit['FSPL[dB]'][1] - orbit['FSPL[dB]'][32]))\n",
    "\n",
    "print(\"\\nPseudorange of the first row: \", orbit['PropDelay[s]'][1])\n",
    "print(\"Pseudorange of the 32th row: \", orbit['PropDelay[s]'][32])\n",
    "print(\"Difference: \", np.abs(orbit['PropDelay[s]'][1] - orbit['PropDelay[s]'][32]))"
   ]
  },
  {
   "cell_type": "markdown",
   "id": "23cef438",
   "metadata": {},
   "source": [
    "Since the difference is negligible, in order to simplify the simulation we are going to consider a constant propagation delay and a constant FSPL for the transmission of each packet. Another simplification that we consider is the following: since the packets are going to be transmitted one after the other, we can consider the propagation delay only once, and it will be the delay we observe when we start the transmission."
   ]
  },
  {
   "cell_type": "markdown",
   "id": "99f68bb8",
   "metadata": {},
   "source": [
    "### RECEIVED SIGNAL"
   ]
  },
  {
   "cell_type": "markdown",
   "id": "f60bced1",
   "metadata": {},
   "source": [
    "The received signal will be characterized by a multiplicative factor given by $\\sqrt{P_r}$ and a time vector that has a length equal to 1309440, starts at the propagation delay $\\tau_p$ and has one sample every $T_s = \\frac{T_c}{4}$ seconds, as well as the transmitted signal. Therefore, for the signal referred to the first packet:"
   ]
  },
  {
   "cell_type": "code",
   "execution_count": null,
   "id": "ce7f8737",
   "metadata": {},
   "outputs": [],
   "source": [
    "\n",
    "\n",
    "# so now we have a function that returns the time vector at the receiver (with prop.delay considered only once) \n",
    "# corresponding at each packet\n",
    "\n",
    "#INTERPOLATION OF FSPL NEEDED! AND CHECK IF THE VALUE RETURNED BY THE INTERPOLATION IS LINEAR OR DB\n",
    "#array contains the interpolation of the FSPL (so one every Ts = Tc / 4 seconds), Pt[W], Gt(dB), Gr(dB), \n",
    "def return_amplitude(array_fspl, index, Pt, Gt, Gr):\n",
    "    FSPL = array_fspl[index*1309440]  #check if array_fspl is linear or dB\n",
    "    Pr_dB = lin2dB(Pt) + settings[Gt] + settings[Gr] - FSPL\n",
    "    Pr = lin2dB(Pr_dB)\n",
    "    return np.sqrt(Pr)\n",
    "\n",
    "\n",
    "#for the doppler frequencies it is a little more complicated, because we need to select the first doppler frequency\n",
    "#in correspondance of the propagation delay.\n",
    "# def return_doppler(begin, array, )"
   ]
  },
  {
   "cell_type": "code",
   "execution_count": null,
   "id": "2e80998d",
   "metadata": {},
   "outputs": [],
   "source": [
    "#received power (if we suppose we start to transmit at the time corresponding at the first line of the dataframe)\n",
    "\n",
    "Pr_dB = lin2dB(settings['transmittedPower']) + settings['transmitterGain'] + settings['receiverGain'] - orbit['FSPL[dB]'][1]\n",
    "Pr = dB2lin(Pr_dB)\n",
    "\n",
    "#as propagation delay we consider the value of the first line of the dataframe\n",
    "prop_delay = orbit['PropDelay[s]'][1]\n",
    "\n",
    "received_signal = np.sqrt(Pr) * modulated_sampled \n",
    "\n",
    "print(\"Received signal: \", received_signal)\n",
    "\n",
    "#here we compute the total time vector that accounts only once for the propagation delay\n",
    "total_time_vector = np.arange(prop_delay, num_packets*1309440*(1/settings['fSampling']) + prop_delay, 1/settings['fSampling'])\n",
    "\n",
    "#to compute the time vector of each packet we use the function described above. For the first packet (index = 0):\n",
    "time_vector = return_time_vector(total_time_vector, 0)\n",
    "# print(time_vector)\n",
    "\n",
    "#so now we have the received signal (without the noise, that will be added to the IQ samples) and the correspondign time vector\n",
    "\n",
    "xticks = time_vector[0:10]\n",
    "fig = plt.figure(figsize=(15,5))\n",
    "ax = fig.add_subplot(1,1,1)\n",
    "ax.step(time_vector[0:10], received_signal[0:10], where='post', lw=3)\n",
    "ax.set_xticks(xticks)\n",
    "ax.set_yticks([-np.sqrt(Pr), 0, np.sqrt(Pr)])\n",
    "ax.set_title('Received signal', fontsize=15)\n",
    "ax.set_xlabel('Time [s]', fontsize=15)\n",
    "ax.set_ylabel('Amplitude', fontsize=15)\n",
    "ax.grid()\n"
   ]
  },
  {
   "cell_type": "markdown",
   "id": "8126db37",
   "metadata": {},
   "source": [
    "## I / Q SAMPLES AT THE RECEIVER   [TO COMPLETE]"
   ]
  },
  {
   "cell_type": "markdown",
   "id": "89ab9dac",
   "metadata": {},
   "source": [
    "The received signal has been generated, and we can call it $s(t)$. The following step consists in generating the I/Q samples, that are simply obtained by multiplying the signal $s(t)$ by a cosine and a sine function:\n",
    "\n",
    "$x_I(t) = s(t)\\,\\cos\\,(2\\,\\pi\\,f'\\,t)$\n",
    "\n",
    "$x_Q(t) = s(t)\\,\\sin\\,(2\\,\\pi\\,f'\\,t)$\n",
    "\n",
    "where $f'$ is a vector that contains all the Doppler frequencies computed during the process. This is because the I/Q samples are supposed to be generated in baseband, therefore there is no carrier frequency to consider in this case.\n",
    "\n",
    "To generate the samples, we need of course to sample the signals $x_I(t)$ and $x_Q(t)$ and the sampling frequencies used in these cases are in the order of 4 or 5 MHz. A good choice might be to consider a sampling frequency $F_s = 4.092$ MHz (with a sampling period $T_s = \\frac{1}{F_s} = 2.4438\\,\\cdot10^{-7} = \\frac{T_c}{4}$ seconds).\n",
    "\n",
    "This is a good choice because the signal $s\\,(t)$ is composed of values spaced apart by $\\frac{T_c}{2}$ seconds. By considering a sampling period of $\\frac{T_c}{4}$ seconds we can sample the signal simply by considering two equal samples for each symbol in the signal $s(t)$.\n",
    "\n",
    "Therefore, if for example we start from $s(t) = [-1, 1, -1 ...]$, after the process we are going to obtain $s(t) = [-1, -1, 1, 1, -1, -1 ...]$. Since, after the modulation, the length of $s(t)$ was 654720, after this process the length of $s(t)$ will be $654720\\cdot2 = 1309440$ values.\n",
    "Alternatively, we can also consider a sampling frequency $F_s = 8.184$ MHz (that refers to a sampling period $T_s = \\frac{T_c}{8}$). In principle we can consider also bigger sampling frequencies, but energy and power consumption considerations must be also taken into account. Therefore we are going to use a sampling frequency $F_s = 4.092$ MHz (that correspond to $T_s = 2.4438\\cdot10^{-7}$ seconds).\n",
    "\n",
    "Regarding the Doppler frequencies, they are calculated by the orbit propagator group, and each value is referred to a new update of the satellite position. This is done with a sampling period that is way bigger than $\\frac{T_c}{4}$, because the orbit parameters are typically updated less frequently. Therefore, in order to obtain a vector $f'$ with 1309440 values (to allow the multiplication of the cosine with $s(t))$, we need to interpolate the data provided by the other group.\n",
    "\n"
   ]
  },
  {
   "cell_type": "markdown",
   "id": "b1b3be6d",
   "metadata": {},
   "source": [
    "### INTERPOLATION OF DOPPLER FREQUENCIES"
   ]
  },
  {
   "cell_type": "code",
   "execution_count": null,
   "id": "edb9529e",
   "metadata": {},
   "outputs": [],
   "source": [
    "###############################################\n",
    "#                                             #\n",
    "#  CODE FOR INTERPOLATION MUST BE ADDED HERE  #\n",
    "#                                             #\n",
    "###############################################\n",
    "\n",
    "#For the moment, since we don't have the data from the other group, we can just simulate the vector f'\n",
    "final_length = 1309440\n",
    "f_prime = np.zeros(final_length)\n",
    "f_max = 3000\n",
    "\n",
    "f_prime[0] = np.random.uniform(-f_max, f_max, 1)\n",
    "\n",
    "#with the following for loop we generate doppler frequencies between -3 KHz and 3 KHz. The absolute value of \n",
    "#the differential doppler frequency between two consecutive symbols is not greater than 0.3 Hz (from Mattia).\n",
    "for i in range(1,final_length):\n",
    "        f_prime[i] = np.random.uniform(f_prime[i-1], f_prime[i-1] + 0.3, 1)\n",
    "    \n",
    "print(f_prime[0:20])\n",
    "print(\"\\nLength of the vector f':\", len(f_prime))"
   ]
  },
  {
   "cell_type": "code",
   "execution_count": null,
   "id": "b3793acf",
   "metadata": {},
   "outputs": [],
   "source": [
    "#so now we have the vector of Doppler frequencies, therefore we need to sample the signal s(t) (called \"modulated\"\n",
    "#here) and to create the time vector t.\n",
    "#As already said, each symbol of the vector s(t) has a duration of Tc / 2. Therefore if we use Ts = Tc / 4 we\n",
    "#just need to repeat each symbol of s(t) two times. This can be easily done with the function np.repeat()\n",
    "\n",
    "\n",
    "# ALREADY DONE AFTER THE MODULATION\n",
    "\n",
    "\n",
    "# Fs = 4.092e06    #sampling frequency is 4.092 MHz\n",
    "# Ts = 1 / Fs      #sampling period, equal to Tc/4\n",
    "\n",
    "# #creation of the sampled signal\n",
    "# modulated_sampled = np.repeat(modulated, 2)\n",
    "# print(\"Before sampling:\", modulated[0:9])\n",
    "# print(\"After sampling\", modulated_sampled[0:18])\n",
    "# print(\"Length after sampling:\", len(modulated_sampled))\n",
    "\n",
    "# #creation of the time vector\n",
    "# t_sampled = np.arange(0, final_length * Ts, Ts)   #1309440 values spaced apart by Tc / 4 seconds each\n",
    "# print(\"\\nTime vector:\", t_sampled)\n",
    "# print(\"Time vector length:\", len(t_sampled))"
   ]
  },
  {
   "cell_type": "markdown",
   "id": "1fd42a3e",
   "metadata": {},
   "source": [
    "Now all the vectors have the right length, and we can obtain $x_I(t)$ and $x_Q(t)$, and we can also add the noise using the awgn function defined here."
   ]
  },
  {
   "cell_type": "code",
   "execution_count": null,
   "id": "574aec65",
   "metadata": {},
   "outputs": [],
   "source": [
    "t_sampled = np.arange(0, final_length * Ts, Ts) #1309440 values spaced apart by Tc / 4 seconds each \n",
    "                                                #last value is 0.32 seconds\n",
    "t_sampled2 = np.arange(t_sampled[-1], 2*final_length * Ts, Ts)\n",
    "print(\"\\n\", t_sampled2)\n",
    "print(len(t_sampled2))\n",
    "# print(final_length)"
   ]
  },
  {
   "cell_type": "code",
   "execution_count": null,
   "id": "7395f6e1",
   "metadata": {},
   "outputs": [],
   "source": [
    "I = modulated_sampled*np.cos(2*pi*f_prime*t_sampled) \n",
    "print(\"\\nI:\", I[0:20])\n",
    "\n",
    "#addition of noise \n",
    "I_noise = awgn(I, -30, True)\n",
    "print(\"\\n\\nAfter noise addition on I:\\n\", I_noise[0:20])\n",
    "\n",
    "Q = modulated_sampled*np.sin(2*pi*f_prime*t_sampled)\n",
    "print(\"\\nQ:\", Q[0:20])\n",
    "\n",
    "#addition of noise (noise power = -50 dB): THIS VALUE MUST BE CHECKED, NO IDEA ABOUT NOISE POWER TYPICAL VALUES\n",
    "Q_noise = awgn(Q, -50, True)\n",
    "print(\"\\n\\nAfter noise addition on Q:\\n\", Q_noise[0:20])\n",
    "\n",
    "#some plots (first N samples)\n",
    "N = 30\n",
    "\n",
    "fig = plt.figure(figsize=(15,5))\n",
    "ax = fig.add_subplot(1,1,1)\n",
    "xticks = t_sampled[0:N]\n",
    "ax.stem(t_sampled[0:N], I[0:N])\n",
    "ax.set_xticks(xticks)\n",
    "plt.xticks(rotation=45)\n",
    "ax.set_title(\"I samples before noise addition\", fontsize=15)\n",
    "ax.set_xlabel(\"Time [s]\", fontsize=15)\n",
    "ax.set_ylabel(\"I samples\", fontsize=15)\n",
    "ax.grid()\n",
    "\n",
    "fig = plt.figure(figsize=(15,5))\n",
    "ax = fig.add_subplot(1,1,1)\n",
    "xticks = t_sampled[0:N]\n",
    "ax.stem(t_sampled[0:N], I_noise[0:N])\n",
    "ax.set_xticks(xticks)\n",
    "plt.xticks(rotation=45)\n",
    "ax.set_title(\"I samples after noise addition\", fontsize=15)\n",
    "ax.set_xlabel(\"Time [s]\", fontsize=15)\n",
    "ax.set_ylabel(\"I samples\", fontsize=15)\n",
    "ax.grid()"
   ]
  },
  {
   "cell_type": "markdown",
   "id": "aa7e3c72",
   "metadata": {},
   "source": [
    "## QUANTIZATION"
   ]
  },
  {
   "cell_type": "markdown",
   "id": "73363e76",
   "metadata": {},
   "source": [
    "Before writing the I/Q samples of the modulated signal in a binary file, we need to quantize them. In order to do that, we consider a uniform quantization with 8 bits, therefore we divide the interval of amplitudes between -1 and 1 in $2^8$ = 256 levels, equally spaced apart between each other.\n",
    "Each sample will be substituted by the value of the level that is closest to it.\n",
    "The function **quantization** takes as input the array to quantize, the upper and lower bounds of the interval from which the levels are drawn, the number of bits for the quantization and a flag that, if true, prints the set of levels of the quantization."
   ]
  },
  {
   "cell_type": "code",
   "execution_count": null,
   "id": "5dd40e52",
   "metadata": {},
   "outputs": [],
   "source": [
    "I_quantized = quantization(I_noise, 1, -1, 8, True)\n",
    "print(\"\\nI_noise: \", I_noise[0:10] )\n",
    "print(\"\\nI_quantized\", I_quantized[0:10])        \n",
    "    \n",
    "Q_quantized = quantization(Q_noise, 1, -1, 8, False)\n",
    "print(\"\\nQ_noise: \", Q_noise[0:10] )\n",
    "print(\"\\nQ_quantized\", Q_quantized[0:10])        \n",
    "\n",
    "# print(len(Q_quantized))\n",
    "# print(len(Q_noise))"
   ]
  },
  {
   "cell_type": "code",
   "execution_count": null,
   "id": "337cd44d",
   "metadata": {},
   "outputs": [],
   "source": []
  }
 ],
 "metadata": {
  "kernelspec": {
   "display_name": "Python 3",
   "language": "python",
   "name": "python3"
  },
  "language_info": {
   "codemirror_mode": {
    "name": "ipython",
    "version": 3
   },
   "file_extension": ".py",
   "mimetype": "text/x-python",
   "name": "python",
   "nbconvert_exporter": "python",
   "pygments_lexer": "ipython3",
   "version": "3.8.8"
  }
 },
 "nbformat": 4,
 "nbformat_minor": 5
}
