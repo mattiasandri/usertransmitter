{
 "cells": [
  {
   "cell_type": "code",
   "execution_count": 59,
   "metadata": {},
   "outputs": [
    {
     "ename": "KeyboardInterrupt",
     "evalue": "",
     "output_type": "error",
     "traceback": [
      "\u001b[0;31m---------------------------------------------------------------------------\u001b[0m",
      "\u001b[0;31mKeyboardInterrupt\u001b[0m                         Traceback (most recent call last)",
      "\u001b[1;32m/home/mattia/github/usertransmitter/receiver.ipynb Cell 1'\u001b[0m in \u001b[0;36m<cell line: 18>\u001b[0;34m()\u001b[0m\n\u001b[1;32m     <a href='vscode-notebook-cell://wsl%2Bubuntu-22.04/home/mattia/github/usertransmitter/receiver.ipynb#ch0000000vscode-remote?line=17'>18</a>\u001b[0m \u001b[39mfor\u001b[39;00m i \u001b[39min\u001b[39;00m \u001b[39mrange\u001b[39m(\u001b[39m4\u001b[39m,\u001b[39mlen\u001b[39m(message)\u001b[39m-\u001b[39m\u001b[39m4\u001b[39m):\n\u001b[1;32m     <a href='vscode-notebook-cell://wsl%2Bubuntu-22.04/home/mattia/github/usertransmitter/receiver.ipynb#ch0000000vscode-remote?line=18'>19</a>\u001b[0m     I_samples\u001b[39m=\u001b[39mnp\u001b[39m.\u001b[39mappend(I_samples,np\u001b[39m.\u001b[39mfrombuffer(message[i:i\u001b[39m+\u001b[39m\u001b[39m2\u001b[39m], dtype\u001b[39m=\u001b[39m\u001b[39m'\u001b[39m\u001b[39m>u2\u001b[39m\u001b[39m'\u001b[39m))\n\u001b[0;32m---> <a href='vscode-notebook-cell://wsl%2Bubuntu-22.04/home/mattia/github/usertransmitter/receiver.ipynb#ch0000000vscode-remote?line=19'>20</a>\u001b[0m     Q_samples\u001b[39m=\u001b[39mnp\u001b[39m.\u001b[39;49mappend(Q_samples,np\u001b[39m.\u001b[39;49mfrombuffer(message[i\u001b[39m+\u001b[39;49m\u001b[39m2\u001b[39;49m:i\u001b[39m+\u001b[39;49m\u001b[39m4\u001b[39;49m], dtype\u001b[39m=\u001b[39;49m\u001b[39m'\u001b[39;49m\u001b[39m>u2\u001b[39;49m\u001b[39m'\u001b[39;49m))\n\u001b[1;32m     <a href='vscode-notebook-cell://wsl%2Bubuntu-22.04/home/mattia/github/usertransmitter/receiver.ipynb#ch0000000vscode-remote?line=21'>22</a>\u001b[0m \u001b[39mprint\u001b[39m(I_samples[\u001b[39m0\u001b[39m:\u001b[39m10\u001b[39m])\n\u001b[1;32m     <a href='vscode-notebook-cell://wsl%2Bubuntu-22.04/home/mattia/github/usertransmitter/receiver.ipynb#ch0000000vscode-remote?line=22'>23</a>\u001b[0m \u001b[39mprint\u001b[39m(Q_samples[\u001b[39m0\u001b[39m:\u001b[39m10\u001b[39m])\n",
      "File \u001b[0;32m<__array_function__ internals>:180\u001b[0m, in \u001b[0;36mappend\u001b[0;34m(*args, **kwargs)\u001b[0m\n",
      "File \u001b[0;32m~/.local/lib/python3.10/site-packages/numpy/lib/function_base.py:5440\u001b[0m, in \u001b[0;36mappend\u001b[0;34m(arr, values, axis)\u001b[0m\n\u001b[1;32m   5438\u001b[0m     values \u001b[39m=\u001b[39m ravel(values)\n\u001b[1;32m   5439\u001b[0m     axis \u001b[39m=\u001b[39m arr\u001b[39m.\u001b[39mndim\u001b[39m-\u001b[39m\u001b[39m1\u001b[39m\n\u001b[0;32m-> 5440\u001b[0m \u001b[39mreturn\u001b[39;00m concatenate((arr, values), axis\u001b[39m=\u001b[39;49maxis)\n",
      "File \u001b[0;32m<__array_function__ internals>:180\u001b[0m, in \u001b[0;36mconcatenate\u001b[0;34m(*args, **kwargs)\u001b[0m\n",
      "\u001b[0;31mKeyboardInterrupt\u001b[0m: "
     ]
    }
   ],
   "source": [
    "import numpy as np\n",
    "import matplotlib.pyplot as plt\n",
    "\n",
    "file=open(\"signal.bin\",\"rb\")\n",
    "\n",
    "message = file.read()\n",
    "\n",
    "file.close()\n",
    "\n",
    "def deQuantization(array,nbits):\n",
    "    q_array=(array/((2**nbits)/2))-1\n",
    "    return q_array\n",
    "\n",
    "\n",
    "I_samples = np.array(np.frombuffer(message[0:2], dtype='>u2'),ndmin=1)\n",
    "Q_samples = np.array(np.frombuffer(message[2:4], dtype='>u2'),ndmin=1)\n",
    "\n",
    "for i in range(4,len(message)-4):\n",
    "    I_samples=np.append(I_samples,np.frombuffer(message[i:i+2], dtype='>u2'))\n",
    "    Q_samples=np.append(Q_samples,np.frombuffer(message[i+2:i+4], dtype='>u2'))\n",
    "\n",
    "print(I_samples[0:10])\n",
    "print(Q_samples[0:10])\n",
    "\n",
    "I_samples = deQuantization(I_samples,16)\n",
    "Q_samples = deQuantization(Q_samples,16)\n",
    "\n",
    "\n",
    "plt.figure(figsize=(8, 4))\n",
    "plt.scatter(range(0,len(I_samples)),I_samples)\n",
    "#plt.scatter(InterpSampleTime, interpDopplerShift)\n",
    "\n",
    "\n",
    "\n"
   ]
  }
 ],
 "metadata": {
  "kernelspec": {
   "display_name": "Python 3.10.4 64-bit",
   "language": "python",
   "name": "python3"
  },
  "language_info": {
   "codemirror_mode": {
    "name": "ipython",
    "version": 3
   },
   "file_extension": ".py",
   "mimetype": "text/x-python",
   "name": "python",
   "nbconvert_exporter": "python",
   "pygments_lexer": "ipython3",
   "version": "3.10.4"
  },
  "orig_nbformat": 4,
  "vscode": {
   "interpreter": {
    "hash": "916dbcbb3f70747c44a77c7bcd40155683ae19c65e1c03b4aa3499c5328201f1"
   }
  }
 },
 "nbformat": 4,
 "nbformat_minor": 2
}
