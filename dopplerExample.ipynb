{
 "cells": [
  {
   "cell_type": "code",
   "execution_count": 1,
   "metadata": {},
   "outputs": [
    {
     "name": "stdout",
     "output_type": "stream",
     "text": [
      "[3.4504145  3.4504145  3.45041449 ... 3.44698955 3.44698955 3.44698955]\n",
      "10000000\n"
     ]
    }
   ],
   "source": [
    "import pandas as pd\n",
    "import numpy as np\n",
    "from scipy import optimize\n",
    "import matplotlib.pyplot as plt\n",
    "import math\n",
    "import dopplerShift\n",
    "\n",
    "data = pd.read_csv('OrbitalDATA.txt', delim_whitespace=True)\n",
    "\n",
    "dopplerFreqSamples = data['DopplerShift[Hz]'].dropna().to_numpy()\n",
    "originalSamplingPeriod = 0.01\n",
    "interpSamplingPeriod = 2.44E-6\n",
    "StartTime = 100\n",
    "numInterpSamples=10000000\n",
    "\n",
    "\n",
    "interpDopplerShift=dopplerShift.GetDopplerShift(dopplerFreqSamples, originalSamplingPeriod, StartTime, numInterpSamples, interpSamplingPeriod)\n",
    "\n",
    "print(interpDopplerShift)\n",
    "print(len(interpDopplerShift))\n"
   ]
  },
  {
   "cell_type": "code",
   "execution_count": 2,
   "metadata": {},
   "outputs": [
    {
     "data": {
      "text/plain": [
       "<matplotlib.collections.PathCollection at 0x7fefee73af70>"
      ]
     },
     "execution_count": 2,
     "metadata": {},
     "output_type": "execute_result"
    },
    {
     "data": {
      "image/png": "[encoded data removed]",
      "text/plain": [
       "<Figure size 720x720 with 1 Axes>"
      ]
     },
     "metadata": {
      "needs_background": "light"
     },
     "output_type": "display_data"
    }
   ],
   "source": [
    "SampleTime = (np.asarray(range(0,len(dopplerFreqSamples))))*originalSamplingPeriod\n",
    "InterpSampleTime = (np.asarray(range(0,numInterpSamples)))*interpSamplingPeriod\n",
    "InterpSampleTime = np.asarray([i+StartTime for i in InterpSampleTime])\n",
    "\n",
    "plt.figure(figsize=(10, 10))\n",
    "plt.scatter(SampleTime, dopplerFreqSamples)\n",
    "plt.scatter(InterpSampleTime, interpDopplerShift)\n"
   ]
  },
  {
   "cell_type": "code",
   "execution_count": null,
   "metadata": {},
   "outputs": [],
   "source": [
    "\n",
    "\n",
    "\n",
    "def sinf(x, A, nu):\n",
    "    return A * np.cos(nu * x) # sine function with amplitude A and angular frequency\n",
    "\n",
    "def GetDopplerShift(originalDopplerSamples, originalSamplingPeriod, startingTime, numInterpSamples, interpSamplingPeriod):\n",
    "\n",
    "    SampleTime = (np.asarray(range(0,len(originalDopplerSamples))))*SamplingPeriod #create the x vector (original)\n",
    "    InterpSampleTime = (np.asarray(range(0,numInterpSamples)))*InterpSamplingPeriod #create the x vector (interpolated)\n",
    "\n",
    "    popt, pcov = optimize.curve_fit(f, SampleTime, originalDopplerSamples, p0=[3, 0.00001], full_output=False)\n",
    "\n",
    "    return sinf(InterSampleTime, popt[0], popt[1])"
   ]
  }
 ],
 "metadata": {
  "kernelspec": {
   "display_name": "Python 3.10.4 64-bit",
   "language": "python",
   "name": "python3"
  },
  "language_info": {
   "codemirror_mode": {
    "name": "ipython",
    "version": 3
   },
   "file_extension": ".py",
   "mimetype": "text/x-python",
   "name": "python",
   "nbconvert_exporter": "python",
   "pygments_lexer": "ipython3",
   "version": "3.8.10"
  },
  "orig_nbformat": 4,
  "vscode": {
   "interpreter": {
    "hash": "916dbcbb3f70747c44a77c7bcd40155683ae19c65e1c03b4aa3499c5328201f1"
   }
  }
 },
 "nbformat": 4,
 "nbformat_minor": 2
}
